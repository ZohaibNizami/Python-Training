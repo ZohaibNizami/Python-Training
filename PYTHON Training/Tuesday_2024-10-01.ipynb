{
 "cells": [
  {
   "cell_type": "code",
   "execution_count": 8,
   "metadata": {},
   "outputs": [
    {
     "name": "stdout",
     "output_type": "stream",
     "text": [
      "\n",
      "Menu:\n",
      "1. Check Person's Email Address\n",
      "2. Add a new name and email\n",
      "3. Change an existing email\n",
      "4. Delete an existing email\n",
      "5. Exit\n"
     ]
    }
   ],
   "source": [
    "#Task no 1 :\n",
    "\n",
    "\n",
    "\n",
    "email_dict = {}\n",
    "\n",
    "def display_menu():\n",
    "    print(\"\\nMenu:\")\n",
    "    print(\"1. Check Person's Email Address\")\n",
    "    print(\"2. Add a new name and email\")\n",
    "    print(\"3. Change an existing email\")\n",
    "    print(\"4. Delete an existing email\")\n",
    "    print(\"5. Exit\")\n",
    "\n",
    "def check_email():\n",
    "    name = input(\"Enter the person's name: \")\n",
    "    if name in email_dict:\n",
    "        print(f\"{name}'s email address is: {email_dict[name]}\")\n",
    "    else:\n",
    "        print(f\"No email address found for {name}.\")\n",
    "\n",
    "def add_email():\n",
    "    name = input(\"Enter the person's name: \")\n",
    "    if name in email_dict:\n",
    "        print(f\"{name} already exists in the list.\")\n",
    "    else:\n",
    "        email = input(\"Enter the email address: 1\")\n",
    "        email_dict[name] = email\n",
    "        print(f\"{name}'s email address has been added.\")\n",
    "\n",
    "def change_email():\n",
    "    name = input(\"Enter the person's name: \")\n",
    "    if name in email_dict:\n",
    "        email = input(\"Enter the new email address: \")\n",
    "        email_dict[name] = email\n",
    "        print(f\"{name}'s email address has been updated.\")\n",
    "    else:\n",
    "        print(f\"No email address found for {name}.\")\n",
    "\n",
    "def delete_email():\n",
    "    name = input(\"Enter the person's name: \")\n",
    "    if name in email_dict:\n",
    "        del email_dict[name]\n",
    "        print(f\"{name}'s email address has been deleted.\")\n",
    "    else:\n",
    "        print(f\"No email address found for {name}.\")\n",
    "\n",
    "def main():\n",
    "    while True:\n",
    "        display_menu()\n",
    "        choice = input(\"Enter your choice (1-5): \")\n",
    "        \n",
    "        if choice == '1':\n",
    "            check_email()\n",
    "        elif choice == '2':\n",
    "            add_email()\n",
    "        elif choice == '3':\n",
    "            change_email()\n",
    "        elif choice == '4':\n",
    "            delete_email()\n",
    "        elif choice == '5':\n",
    "            print(\"Goodbye!\")\n",
    "            break\n",
    "        else:\n",
    "            print(\"Invalid choice. Please enter No 1 and 5.\")\n",
    "if __name__ == \"__main__\":\n",
    "    main()\n"
   ]
  },
  {
   "cell_type": "code",
   "execution_count": null,
   "metadata": {},
   "outputs": [],
   "source": [
    "dict ={\n",
    "    'zohaib'\n",
    "}"
   ]
  },
  {
   "cell_type": "code",
   "execution_count": 1,
   "metadata": {},
   "outputs": [
    {
     "ename": "NameError",
     "evalue": "name 'zohaib' is not defined",
     "output_type": "error",
     "traceback": [
      "\u001b[1;31m---------------------------------------------------------------------------\u001b[0m",
      "\u001b[1;31mNameError\u001b[0m                                 Traceback (most recent call last)",
      "Cell \u001b[1;32mIn[1], line 1\u001b[0m\n\u001b[1;32m----> 1\u001b[0m \u001b[38;5;28mdict\u001b[39m(\u001b[43mzohaib\u001b[49m)\n",
      "\u001b[1;31mNameError\u001b[0m: name 'zohaib' is not defined"
     ]
    }
   ],
   "source": [
    "dict(zohaib)"
   ]
  },
  {
   "cell_type": "code",
   "execution_count": 6,
   "metadata": {},
   "outputs": [],
   "source": [
    "#Task No 2\n",
    "\n",
    "\n",
    "alphabet = {\n",
    "    'A': '2', 'B': '2', 'C': '2',\n",
    "    'D': '3', 'E': '3', 'F': '3',\n",
    "    'G': '4', 'H': '4', 'I': '4',\n",
    "    'J': '5', 'K': '5', 'L': '5',\n",
    "    'M': '6', 'N': '6', 'O': '6',\n",
    "    'P': '7', 'Q': '7', 'R': '7', 'S': '7',\n",
    "    'T': '8', 'U': '8', 'V': '8',\n",
    "    'W': '9', 'X': '9', 'Y': '9', 'Z': '9'\n",
    "}\n",
    "\n",
    "def convert(phone):\n",
    "    converted_number = ''\n",
    "    phone = phone.upper()  \n",
    "    for x in phone:\n",
    "        if x.isalpha():\n",
    "            converted_number += alphabet[x]\n",
    "        else:\n",
    "            converted_number += x\n",
    "    return converted_number\n",
    "\n",
    "phone = input('Enter Your Value: ')\n",
    "y = convert(phone)\n",
    "print(y)\n"
   ]
  },
  {
   "cell_type": "code",
   "execution_count": 2,
   "metadata": {},
   "outputs": [
    {
     "name": "stdout",
     "output_type": "stream",
     "text": [
      "2gn0mAbc\n",
      "0n0n0bAbc\n",
      "d2nk1yAbc\n",
      "0c0pl0Abc\n"
     ]
    }
   ],
   "source": [
    "#Task no 3\n",
    "\n",
    "\n",
    "def input(word):\n",
    "   \n",
    "    reversed_word = word[::-1]\n",
    "    \n",
    "    vowel_words = {\n",
    "        'a': '0','e': '1','i': '2','o': '2','u': '3'\n",
    "    }\n",
    "    input_word = \"\"\n",
    "    \n",
    "    for x in reversed_word:\n",
    "        \n",
    "        input_word += vowel_words.get(x,x)\n",
    "    \n",
    "    input_word += \"Abc\"\n",
    "    \n",
    "    return input_word\n",
    "\n",
    "print(input(\"mango\"))  \n",
    "print(input(\"banana\"))  \n",
    "print(input(\"yeknod\"))  \n",
    "print(input(\"alpaca\"))  \n"
   ]
  },
  {
   "cell_type": "code",
   "execution_count": 4,
   "metadata": {},
   "outputs": [
    {
     "name": "stdout",
     "output_type": "stream",
     "text": [
      "Pakistanis play Baseball.\n",
      "Pakistanis play Cricket.\n",
      "Pakistanis watch Baseball.\n",
      "Pakistanis watch Cricket.\n",
      "Indians play Baseball.\n",
      "Indians play Cricket.\n",
      "Indians watch Baseball.\n",
      "Indians watch Cricket.\n"
     ]
    }
   ],
   "source": [
    "#Task no 4\n",
    "\n",
    "\n",
    "subjects = [\"Pakistanis\", \"Indians\"]\n",
    "verbs = [\"play\", \"watch\"]\n",
    "objects = [\"Baseball\", \"Cricket\"]\n",
    "for a in subjects:\n",
    "    for b in verbs:\n",
    "        for c in objects:\n",
    "            print(f\"{a} {b} {c}.\")"
   ]
  }
 ],
 "metadata": {
  "kernelspec": {
   "display_name": "Python 3",
   "language": "python",
   "name": "python3"
  },
  "language_info": {
   "codemirror_mode": {
    "name": "ipython",
    "version": 3
   },
   "file_extension": ".py",
   "mimetype": "text/x-python",
   "name": "python",
   "nbconvert_exporter": "python",
   "pygments_lexer": "ipython3",
   "version": "3.11.9"
  }
 },
 "nbformat": 4,
 "nbformat_minor": 2
}
