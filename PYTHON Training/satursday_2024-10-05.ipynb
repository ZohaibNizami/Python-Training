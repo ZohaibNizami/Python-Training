{
 "cells": [
  {
   "cell_type": "markdown",
   "metadata": {},
   "source": [
    "## Assignment no 4:"
   ]
  },
  {
   "cell_type": "code",
   "execution_count": null,
   "metadata": {},
   "outputs": [],
   "source": [
    "a = []\n",
    "for i in range(5):\n",
    "    x = float(input(f\"Enter number {i+1}:\"))\n",
    "    a.append(x)\n",
    "l= min(a)\n",
    "h = max(a)\n",
    "t = sum(a)\n",
    "avg = t/len(a)\n",
    "print(l,h,t,avg) "
   ]
  },
  {
   "cell_type": "code",
   "execution_count": 8,
   "metadata": {},
   "outputs": [
    {
     "name": "stdout",
     "output_type": "stream",
     "text": [
      "True\n"
     ]
    }
   ],
   "source": [
    "a = [1,2,3]\n",
    "b = [1,2,3]\n",
    "c = a==b\n",
    "print(c)"
   ]
  },
  {
   "cell_type": "code",
   "execution_count": 9,
   "metadata": {},
   "outputs": [
    {
     "name": "stdout",
     "output_type": "stream",
     "text": [
      "[1, 2, 3]\n"
     ]
    }
   ],
   "source": [
    "a = [1,2,3]\n",
    "b = a.copy()\n",
    "print(b)"
   ]
  },
  {
   "cell_type": "code",
   "execution_count": 10,
   "metadata": {},
   "outputs": [
    {
     "name": "stdout",
     "output_type": "stream",
     "text": [
      "[0, 0, 0, 0, 0]\n"
     ]
    }
   ],
   "source": [
    "a = [1,2,3,4,5]\n",
    "a = [0]*len(a)\n",
    "print(a)\n"
   ]
  },
  {
   "cell_type": "code",
   "execution_count": 11,
   "metadata": {},
   "outputs": [
    {
     "name": "stdout",
     "output_type": "stream",
     "text": [
      "[]\n"
     ]
    }
   ],
   "source": [
    "a = [1,2,3,4,5,6,7,8,9]\n",
    "a.clear()\n",
    "print (a)\n"
   ]
  },
  {
   "cell_type": "code",
   "execution_count": 20,
   "metadata": {},
   "outputs": [
    {
     "name": "stdout",
     "output_type": "stream",
     "text": [
      "[10, 30, 50]\n"
     ]
    }
   ],
   "source": [
    "a = [10,20,30,40,50]\n",
    "b = a[::2]\n",
    "print(b)"
   ]
  },
  {
   "cell_type": "code",
   "execution_count": 65,
   "metadata": {},
   "outputs": [
    {
     "name": "stdout",
     "output_type": "stream",
     "text": [
      "[1, 2, 3, 4, 5, 6, 7, 8, 9, 10, 11, 12, 13, 14, 15, 16, 17, 18, 19, 20, 21, 22, 23, 24, 25, 26, 27, 28, 29, 30, 31, 32, 33, 34, 35, 36, 37, 38, 39, 40, 41, 42, 43, 44, 45, 46, 47, 48, 49, 50, 51, 52, 53, 54, 55, 56, 57, 58, 59, 60, 61, 62, 63, 64, 65, 66, 67, 68, 69, 70, 71, 72, 73, 74, 75, 76, 77, 78, 79, 80, 81, 82, 83, 84, 85, 86, 87, 88, 89, 90, 91, 92, 93, 94, 95, 96, 97, 98, 99, 100] []\n"
     ]
    }
   ],
   "source": [
    "a = list(range(1,101))\n",
    "b = []\n",
    "print(a,b)\n"
   ]
  },
  {
   "cell_type": "code",
   "execution_count": 21,
   "metadata": {},
   "outputs": [
    {
     "name": "stdout",
     "output_type": "stream",
     "text": [
      "[8, 7, 6, 5, 4, 3, 2, 1]\n"
     ]
    }
   ],
   "source": [
    "a = [1,2,3,4,5,6,7,8]\n",
    "b = a[::-1]\n",
    "print(b)"
   ]
  },
  {
   "cell_type": "code",
   "execution_count": 25,
   "metadata": {},
   "outputs": [
    {
     "name": "stdout",
     "output_type": "stream",
     "text": [
      "[1, 8]\n"
     ]
    }
   ],
   "source": [
    "a = [1,2,3,4,5,6,7,8]\n",
    "b = a[0::7]\n",
    "print(b)"
   ]
  },
  {
   "cell_type": "code",
   "execution_count": 30,
   "metadata": {},
   "outputs": [
    {
     "name": "stdout",
     "output_type": "stream",
     "text": [
      "[2, 4, 6]\n"
     ]
    }
   ],
   "source": [
    "a = [1,2,3,4,5,6]\n",
    "x = [i for i in a if i % 2 == 0]\n",
    "print(x)"
   ]
  },
  {
   "cell_type": "code",
   "execution_count": 4,
   "metadata": {},
   "outputs": [
    {
     "ename": "TypeError",
     "evalue": "'int' object is not iterable",
     "output_type": "error",
     "traceback": [
      "\u001b[1;31m---------------------------------------------------------------------------\u001b[0m",
      "\u001b[1;31mTypeError\u001b[0m                                 Traceback (most recent call last)",
      "Cell \u001b[1;32mIn[4], line 5\u001b[0m\n\u001b[0;32m      2\u001b[0m \u001b[38;5;28mmin\u001b[39m \u001b[38;5;241m=\u001b[39m a[\u001b[38;5;241m0\u001b[39m]\n\u001b[0;32m      3\u001b[0m lenght \u001b[38;5;241m=\u001b[39m \u001b[38;5;28mlen\u001b[39m(a)\n\u001b[1;32m----> 5\u001b[0m \u001b[38;5;28;43;01mfor\u001b[39;49;00m\u001b[43m \u001b[49m\u001b[43mi\u001b[49m\u001b[43m \u001b[49m\u001b[38;5;129;43;01min\u001b[39;49;00m\u001b[43m \u001b[49m\u001b[43mlenght\u001b[49m\u001b[43m:\u001b[49m\n\u001b[0;32m      6\u001b[0m \u001b[43m    \u001b[49m\u001b[38;5;28;43mprint\u001b[39;49m\u001b[43m(\u001b[49m\u001b[43mlenght\u001b[49m\u001b[43m)\u001b[49m\n",
      "\u001b[1;31mTypeError\u001b[0m: 'int' object is not iterable"
     ]
    }
   ],
   "source": [
    "a = [5,7,10,1,20]\n",
    "min = a[0]\n",
    "lenght = len(a)\n",
    "\n",
    "for i in lenght:"
   ]
  },
  {
   "cell_type": "code",
   "execution_count": 4,
   "metadata": {},
   "outputs": [
    {
     "name": "stdout",
     "output_type": "stream",
     "text": [
      "7\n"
     ]
    }
   ],
   "source": [
    "t1 = (1, 23, 4, 5,3, 45, 45)\n",
    "a = len(t1)\n",
    "print(a)"
   ]
  },
  {
   "cell_type": "code",
   "execution_count": 5,
   "metadata": {},
   "outputs": [
    {
     "name": "stdout",
     "output_type": "stream",
     "text": [
      "(3,)\n"
     ]
    }
   ],
   "source": [
    "t1 = (1,2,3,4,5,6,7)\n",
    "a = t1[2:3]\n",
    "print(a)"
   ]
  },
  {
   "cell_type": "code",
   "execution_count": 6,
   "metadata": {},
   "outputs": [
    {
     "name": "stdout",
     "output_type": "stream",
     "text": [
      "3\n"
     ]
    }
   ],
   "source": [
    "\n",
    "t = (1,12,1,5,1,6)\n",
    "a = t.count(1)\n",
    "print(a)"
   ]
  },
  {
   "cell_type": "code",
   "execution_count": 49,
   "metadata": {},
   "outputs": [
    {
     "name": "stdout",
     "output_type": "stream",
     "text": [
      "cc\n"
     ]
    }
   ],
   "source": [
    "t1 = (1, 23, 4, 5, \"a\", [\"c\", \"d\"], (23, 45), 45)\n",
    "c = t1[5][0]\n",
    "r = c*2\n",
    "print(r)"
   ]
  },
  {
   "cell_type": "code",
   "execution_count": 51,
   "metadata": {},
   "outputs": [
    {
     "name": "stdout",
     "output_type": "stream",
     "text": [
      "(1, 2, 3, 4, 5)\n"
     ]
    }
   ],
   "source": [
    "t = (1,2,3,4,5,6,7,8)\n",
    "c =t[:5]\n",
    "print(c)"
   ]
  },
  {
   "cell_type": "code",
   "execution_count": 63,
   "metadata": {},
   "outputs": [
    {
     "name": "stdout",
     "output_type": "stream",
     "text": [
      "(4, 5, 6, 7, 8)\n"
     ]
    }
   ],
   "source": [
    "t = (1,2,3,4,5,6,7,8)\n",
    "c =t[3:]\n",
    "print(c)"
   ]
  },
  {
   "cell_type": "code",
   "execution_count": 10,
   "metadata": {},
   "outputs": [
    {
     "name": "stdout",
     "output_type": "stream",
     "text": [
      "\n",
      "Menu\n",
      "1. check Email\n",
      "2. Add New Email\n",
      "3. Change Existing Email\n",
      "4 Delete Existing Email\n",
      "5. Exit\n",
      "zohaib email Added\n",
      "\n",
      "Menu\n",
      "1. check Email\n",
      "2. Add New Email\n",
      "3. Change Existing Email\n",
      "4 Delete Existing Email\n",
      "5. Exit\n",
      "zohaibemail is zohaib@gmail.com\n",
      "\n",
      "Menu\n",
      "1. check Email\n",
      "2. Add New Email\n",
      "3. Change Existing Email\n",
      "4 Delete Existing Email\n",
      "5. Exit\n"
     ]
    }
   ],
   "source": [
    "Email_dict = {}\n",
    "\n",
    "def display_menu():\n",
    "    print(\"\\nMenu\")\n",
    "    print(\"1. check Email\")\n",
    "    print(\"2. Add New Email\")\n",
    "    print(\"3. Change Existing Email\")\n",
    "    print(\"4 Delete Existing Email\")\n",
    "    print(\"5. Exit\")\n",
    "\n",
    "def check_email():\n",
    "    name = input(\"Enter The name\")\n",
    "    if name in Email_dict:\n",
    "        print(f\"{name}email is {Email_dict[name]}\")\n",
    "    else:\n",
    "        print(f\"No email Address found{name}\")\n",
    "\n",
    "def add_email():\n",
    "    name = input(\"Enter Name\")\n",
    "    if name in Email_dict:\n",
    "        print(f\"{name} already Exists\")\n",
    "    else:\n",
    "        email =input(\"enter your email\")\n",
    "        Email_dict[name] = email\n",
    "        print(f\"{name} email Added\")\n",
    "def change_email():\n",
    "    name = input(\"enter the person name\")\n",
    "    if name in Email_dict:\n",
    "        email = input(\"enter your new email\")\n",
    "        Email_dict[name]= email\n",
    "        print(f\"{name} email Added\")\n",
    "    else:\"\"\n",
    "    print(f\"No email{name}\")\n",
    "\n",
    "def delete_email():\n",
    "    name = input (\"enter name\")\n",
    "    if name in Email_dict:\n",
    "        del Email_dict[name]\n",
    "        print(f\"{name}email deleted\")\n",
    "    else:\n",
    "        print(f\"no email {name}\")\n",
    "\n",
    "def main():\n",
    "    while True:\n",
    "        display_menu()\n",
    "        choice = input(\"Enter your choice (1-5): \")\n",
    "        \n",
    "        if choice == '1':\n",
    "            check_email()\n",
    "        elif choice == '2':\n",
    "            add_email()\n",
    "        elif choice == '3':\n",
    "            change_email()\n",
    "        elif choice == '4':\n",
    "            delete_email()\n",
    "        elif choice == '5':\n",
    "            print(\"Goodbye!\")\n",
    "            break\n",
    "        else:\n",
    "            print(\"Invalid choice. Please enter No 1 and 5.\")\n",
    "if __name__ == \"__main__\":\n",
    "    main()"
   ]
  },
  {
   "cell_type": "code",
   "execution_count": 13,
   "metadata": {},
   "outputs": [
    {
     "name": "stdout",
     "output_type": "stream",
     "text": [
      "(('a', 'b'), ('c', 'd'))\n"
     ]
    }
   ],
   "source": [
    "\n",
    "a = [(1, 2), (3, 4), (5, 6), (7, 8), ('a', 'b'), ('c', 'd')]\n",
    "x = a[4],a[5]\n",
    "print(x)\n"
   ]
  },
  {
   "cell_type": "markdown",
   "metadata": {},
   "source": [
    "## Assignment No 5:\n"
   ]
  },
  {
   "cell_type": "code",
   "execution_count": 14,
   "metadata": {},
   "outputs": [
    {
     "name": "stdout",
     "output_type": "stream",
     "text": [
      "5\n"
     ]
    }
   ],
   "source": [
    "x = 5  \n",
    "y = 0\n",
    "if x > 0:\n",
    "    y = x\n",
    "else:\n",
    "    y = 0\n",
    "\n",
    "print(y)\n"
   ]
  },
  {
   "cell_type": "code",
   "execution_count": 35,
   "metadata": {},
   "outputs": [
    {
     "name": "stdout",
     "output_type": "stream",
     "text": [
      "[12, 144, 1728, 20736, 248832, 2985984, 35831808]\n"
     ]
    }
   ],
   "source": [
    "\n",
    "n = 12 \n",
    "x = []\n",
    "\n",
    "for i in range(1,8):\n",
    "    term = n ** i  \n",
    "    x.append(term)  \n",
    "\n",
    "print(x)\n"
   ]
  },
  {
   "cell_type": "code",
   "execution_count": 46,
   "metadata": {},
   "outputs": [
    {
     "name": "stdout",
     "output_type": "stream",
     "text": [
      "highest divisor 15 is 15\n",
      "smallest divisor 15 is 3\n"
     ]
    }
   ],
   "source": [
    "x = int(input(\"enter your num\"))\n",
    "a = []\n",
    "for i in range(3, x +1):\n",
    "    if x % i == 0:\n",
    "        a.append(i)\n",
    "small_value = a[0]\n",
    "large_value = a[-1]\n",
    "print(f\"highest divisor {x} is {large_value}\")\n",
    "print(f\"smallest divisor {x} is {small_value}\")"
   ]
  },
  {
   "cell_type": "code",
   "execution_count": null,
   "metadata": {},
   "outputs": [],
   "source": []
  },
  {
   "cell_type": "code",
   "execution_count": 15,
   "metadata": {},
   "outputs": [
    {
     "name": "stdout",
     "output_type": "stream",
     "text": [
      "sohaib\n"
     ]
    }
   ],
   "source": [
    "my_dict = {102:\"sohaib\"105:\"zohaib\" 106: \"nizami\"}\n",
    "\n",
    "print(my_dict[102])"
   ]
  },
  {
   "cell_type": "code",
   "execution_count": 4,
   "metadata": {},
   "outputs": [
    {
     "name": "stdout",
     "output_type": "stream",
     "text": [
      "{102: 'sohaib', 105: 'zohaib', 106: 'nizami', 101: 'muhammad'}\n"
     ]
    }
   ],
   "source": [
    "str = {102:\"sohaib\",105:\"zohaib\", 106: \"nizami\"}\n",
    "\n",
    "str[101] = \"muhammad\"\n",
    "\n",
    "print(str)"
   ]
  },
  {
   "cell_type": "code",
   "execution_count": 7,
   "metadata": {},
   "outputs": [
    {
     "name": "stdout",
     "output_type": "stream",
     "text": [
      "{105: 'zohaib', 106: 'nizami'}\n"
     ]
    }
   ],
   "source": [
    "str = {102:\"sohaib\",105:\"zohaib\", 106: \"nizami\"}\n",
    "\n",
    "del str[102] \n",
    "\n",
    "print(str)"
   ]
  },
  {
   "cell_type": "code",
   "execution_count": 9,
   "metadata": {},
   "outputs": [
    {
     "name": "stdout",
     "output_type": "stream",
     "text": [
      "{}\n"
     ]
    }
   ],
   "source": [
    "str = {102:\"sohaib\",105:\"zohaib\", 106: \"nizami\"}\n",
    "\n",
    "str.clear()\n",
    "\n",
    "print(str)"
   ]
  },
  {
   "cell_type": "code",
   "execution_count": 13,
   "metadata": {},
   "outputs": [
    {
     "name": "stdout",
     "output_type": "stream",
     "text": [
      "{102: 'sohaib', 105: 'zohaib', 106: 'nizami'}\n"
     ]
    }
   ],
   "source": [
    "str = {102:\"sohaib\",105:\"zohaib\", 106: \"nizami\"}\n",
    "\n",
    "new_str =str.copy()\n",
    "print(new_str)"
   ]
  },
  {
   "cell_type": "markdown",
   "metadata": {},
   "source": []
  },
  {
   "cell_type": "code",
   "execution_count": 66,
   "metadata": {},
   "outputs": [
    {
     "name": "stdout",
     "output_type": "stream",
     "text": [
      "{'name': 'Ali', 'type': 'doctor', 'description': 'Doctor'}\n",
      "{'name': 'Saif', 'type': 'doctor', 'description': 'Senior Doctor'}\n"
     ]
    }
   ],
   "source": []
  },
  {
   "cell_type": "code",
   "execution_count": 69,
   "metadata": {},
   "outputs": [
    {
     "name": "stdout",
     "output_type": "stream",
     "text": [
      "doctor\n",
      "doctor\n"
     ]
    }
   ],
   "source": [
    "d = [\n",
    "    {\n",
    "        \"name\": \"Ali\",\n",
    "        \"type\": \"doctor\",\n",
    "        \"description\": \"Doctor\"\n",
    "    }, {\n",
    "        \"name\": \"Ehtisham\",\n",
    "        \"type\": \"senior\",\n",
    "        \"description\": \"Senior Engineer\"\n",
    "    }, {\n",
    "        \"name\": \"Saif\",\n",
    "        \"type\": \"doctor\",\n",
    "        \"description\": \"Senior Doctor\"\n",
    "    }\n",
    "] \n",
    "for i in d:\n",
    "    if i[\"type\"] == \"doctor\":\n",
    "        print(i[\"type\"])"
   ]
  },
  {
   "cell_type": "code",
   "execution_count": 2,
   "metadata": {},
   "outputs": [
    {
     "name": "stdout",
     "output_type": "stream",
     "text": [
      "Ali\n",
      "Ehtisham\n",
      "Saif\n"
     ]
    }
   ],
   "source": [
    "d = [\n",
    "    {\n",
    "        \"name\": \"Ali\",\n",
    "        \"type\": \"doctor\",\n",
    "        \"description\": \"Doctor\"\n",
    "    }, {\n",
    "        \"name\": \"Ehtisham\",\n",
    "        \"type\": \"senior\",\n",
    "        \"description\": \"Senior Engineer\"\n",
    "    }, {\n",
    "        \"name\": \"Saif\",\n",
    "        \"type\": \"doctor\",\n",
    "        \"description\": \"Senior Doctor\"\n",
    "    }\n",
    "]\n",
    "for i in d:\n",
    "    if i[\"name\"] in [\"Saif\", \"Ali\", 'Ehtisham']:\n",
    "        print(i[\"name\"])\n"
   ]
  },
  {
   "cell_type": "code",
   "execution_count": 35,
   "metadata": {},
   "outputs": [
    {
     "name": "stdout",
     "output_type": "stream",
     "text": [
      "20\n"
     ]
    }
   ],
   "source": [
    "student = {\"name\": \"John\",\"age\": 20,\"grade\": \"A\"}\n",
    "print(student[\"age\"])"
   ]
  },
  {
   "cell_type": "code",
   "execution_count": 40,
   "metadata": {},
   "outputs": [
    {
     "name": "stdout",
     "output_type": "stream",
     "text": [
      "{'name': 'John', 'age': 20, 'grade': 'A', 'major': 'computer science'}\n"
     ]
    }
   ],
   "source": [
    "student = {\"name\": \"John\",\"age\": 20,\"grade\": \"A\"}\n",
    "a = student.update({\"major\":\"computer science\"})\n",
    "print(student)"
   ]
  },
  {
   "cell_type": "code",
   "execution_count": 53,
   "metadata": {},
   "outputs": [
    {
     "name": "stdout",
     "output_type": "stream",
     "text": [
      "{'name': 'John', 'age': 20, 'grade': 'b'}\n"
     ]
    }
   ],
   "source": [
    "student = {\"name\": \"John\",\"age\": 20,\"grade\": \"A\"}\n",
    "student[\"grade\"] = \"b\"\n",
    "print(student)"
   ]
  },
  {
   "cell_type": "code",
   "execution_count": 60,
   "metadata": {},
   "outputs": [
    {
     "name": "stdout",
     "output_type": "stream",
     "text": [
      "{'name': 'John', 'age': 20}\n"
     ]
    }
   ],
   "source": [
    "student = {\"name\": \"John\",\"age\": 20,\"grade\": \"A\"}\n",
    "student.pop(\"grade\")\n",
    "print(student)"
   ]
  },
  {
   "cell_type": "code",
   "execution_count": 17,
   "metadata": {},
   "outputs": [
    {
     "name": "stdout",
     "output_type": "stream",
     "text": [
      "4\n"
     ]
    }
   ],
   "source": [
    "a = {'name': 'John', 'age': 20, 'grade': 'A', 'major': 'computer science'}\n",
    "b =len(a)\n",
    "print(b)\n"
   ]
  },
  {
   "cell_type": "code",
   "execution_count": 16,
   "metadata": {},
   "outputs": [
    {
     "name": "stdout",
     "output_type": "stream",
     "text": [
      "The key 'major' does not exist.\n"
     ]
    }
   ],
   "source": [
    "student = {\n",
    "    'name': 'John',\n",
    "    'age': 20,\n",
    "    'grade': 'A'\n",
    "}\n",
    "\n",
    "if \"major\" in student:\n",
    "    print(\"The key 'major' exists.\")\n",
    "else:\n",
    "    print(\"The key 'major' does not exist.\")\n"
   ]
  },
  {
   "cell_type": "code",
   "execution_count": 19,
   "metadata": {},
   "outputs": [
    {
     "name": "stdout",
     "output_type": "stream",
     "text": [
      "name : John\n",
      "age : 20\n",
      "grade : A\n",
      "major : computer science\n"
     ]
    }
   ],
   "source": [
    "a = {'name': 'John', 'age': 20, 'grade': 'A', 'major': 'computer science'}\n",
    "for key, value in a.items():\n",
    "    print(key, \":\", value)"
   ]
  },
  {
   "cell_type": "code",
   "execution_count": 21,
   "metadata": {},
   "outputs": [
    {
     "name": "stdout",
     "output_type": "stream",
     "text": [
      "{'name': 'John', 'age': 20, 'grade': 'A', 'major': 'computer science', 'graduation_year': 2024, 'GPA': 3.8}\n"
     ]
    }
   ],
   "source": [
    "a = {'name': 'John', 'age': 20, 'grade': 'A', 'major': 'computer science'}\n",
    "b = {\"graduation_year\": 2024, \"GPA\": 3.8}\n",
    "c= a.update(b)\n",
    "print(a)"
   ]
  },
  {
   "cell_type": "code",
   "execution_count": 31,
   "metadata": {},
   "outputs": [
    {
     "name": "stdout",
     "output_type": "stream",
     "text": [
      "{}\n"
     ]
    }
   ],
   "source": [
    "a = {'name': 'John', 'age': 20, 'grade': 'A', 'major': 'computer science'}\n",
    "b =a.clear()\n",
    "print(a)\n"
   ]
  },
  {
   "cell_type": "code",
   "execution_count": 36,
   "metadata": {},
   "outputs": [
    {
     "name": "stdout",
     "output_type": "stream",
     "text": [
      "[{'student1': 'ali', 'subject1': 'urdu'}, {'student2': 'ahmed', 'subject2': 'english'}, {'student3': 'mosa', 'subject3': 'math'}]\n"
     ]
    }
   ],
   "source": [
    "classroom =[{'student1': 'ali', 'subject1': 'urdu'},\n",
    "{'student2': 'ahmed','subject2': 'english'},\n",
    "{'student3': 'mosa','subject3': 'math'}]\n",
    "print(classroom)\n"
   ]
  },
  {
   "cell_type": "code",
   "execution_count": 84,
   "metadata": {},
   "outputs": [
    {
     "name": "stdout",
     "output_type": "stream",
     "text": [
      "number of subjects 2\n"
     ]
    }
   ],
   "source": [
    "grades = {'Math': 90, 'Science': 60, 'English': 70, 'History': 90}\n",
    "count = 0\n",
    "\n",
    "for i in grades.values():\n",
    "    if i == 90:\n",
    "        count +=1\n",
    "print(\"number of subjects\",count)"
   ]
  },
  {
   "cell_type": "code",
   "execution_count": 83,
   "metadata": {},
   "outputs": [
    {
     "name": "stdout",
     "output_type": "stream",
     "text": [
      "2\n"
     ]
    }
   ],
   "source": [
    "count = 0\n",
    "for i in grades.value():\n",
    "    if i == 60"
   ]
  },
  {
   "cell_type": "code",
   "execution_count": 10,
   "metadata": {},
   "outputs": [
    {
     "name": "stdout",
     "output_type": "stream",
     "text": [
      "[1, 3, 4, 5, 6, 7]\n"
     ]
    }
   ],
   "source": [
    "list=[1,4,5,6,7,3]\n",
    "list.sort()\n",
    "print(list)"
   ]
  },
  {
   "cell_type": "code",
   "execution_count": null,
   "metadata": {},
   "outputs": [],
   "source": [
    "a = [2,56,7,88,100,1]\n",
    "sort_list = lambda list: list"
   ]
  },
  {
   "cell_type": "code",
   "execution_count": null,
   "metadata": {},
   "outputs": [],
   "source": []
  }
 ],
 "metadata": {
  "kernelspec": {
   "display_name": "Python 3",
   "language": "python",
   "name": "python3"
  },
  "language_info": {
   "codemirror_mode": {
    "name": "ipython",
    "version": 3
   },
   "file_extension": ".py",
   "mimetype": "text/x-python",
   "name": "python",
   "nbconvert_exporter": "python",
   "pygments_lexer": "ipython3",
   "version": "3.11.9"
  }
 },
 "nbformat": 4,
 "nbformat_minor": 2
}
