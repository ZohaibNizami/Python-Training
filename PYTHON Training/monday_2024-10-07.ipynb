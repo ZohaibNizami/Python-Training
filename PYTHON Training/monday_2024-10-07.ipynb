{
 "cells": [
  {
   "cell_type": "code",
   "execution_count": 1,
   "metadata": {},
   "outputs": [
    {
     "name": "stdout",
     "output_type": "stream",
     "text": [
      "{1: 10, 2: 20, 3: 30, 4: 40, 5: 50, 6: 60}\n"
     ]
    }
   ],
   "source": [
    "dic1={1:10, 2:20}\n",
    "dic2={3:30, 4:40}\n",
    "dic3={5:50,6:60}\n",
    "result = dic1.copy() \n",
    "result.update(dic2)   \n",
    "result.update(dic3) \n",
    "\n",
    "print(result)"
   ]
  },
  {
   "cell_type": "code",
   "execution_count": 2,
   "metadata": {},
   "outputs": [
    {
     "name": "stdout",
     "output_type": "stream",
     "text": [
      "Counter({'a': 400, 'b': 400, 'd': 400, 'c': 300})\n"
     ]
    }
   ],
   "source": [
    "from collections import Counter\n",
    "d1 = {'a': 100, 'b': 200, 'c':300}\n",
    "d2 = {'a': 300, 'b': 200, 'd':400}\n",
    "d3 = Counter(d1) + Counter(d2)\n",
    "print(d3)"
   ]
  },
  {
   "cell_type": "code",
   "execution_count": 3,
   "metadata": {},
   "outputs": [
    {
     "name": "stdout",
     "output_type": "stream",
     "text": [
      "{'S001', 'S007', 'S005', 'S009', 'S002'}\n"
     ]
    }
   ],
   "source": [
    "d =[{\"V\":\"S001\"}, {\"V\": \"S002\"}, {\"VI\": \"S001\"}, {\"VI\": \"S005\"}, {\"VII\":\"S005\"}, {\"V\":\"S009\"},{\"VIII\":\"S007\"}]\n",
    "a = set()\n",
    "\n",
    "for i in d:\n",
    "    for x in i.values():\n",
    "        a.add(x)\n",
    "print(a)"
   ]
  },
  {
   "cell_type": "code",
   "execution_count": 4,
   "metadata": {},
   "outputs": [
    {
     "name": "stdout",
     "output_type": "stream",
     "text": [
      "{'rajnish': 9, 'ravi': 10, 'sanjeev': 15}\n"
     ]
    }
   ],
   "source": [
    "d = {'ravi': 10, 'rajnish': 9, 'sanjeev': 15}\n",
    "sorted_d = dict(sorted(d.items(), key=lambda item: item[1]))\n",
    "print(sorted_d)\n"
   ]
  },
  {
   "cell_type": "code",
   "execution_count": 5,
   "metadata": {},
   "outputs": [
    {
     "name": "stdout",
     "output_type": "stream",
     "text": [
      "olleh\n"
     ]
    }
   ],
   "source": [
    "s = 'hello'\n",
    "a = s[::-1]\n",
    "print(a)\n"
   ]
  },
  {
   "cell_type": "code",
   "execution_count": 6,
   "metadata": {},
   "outputs": [
    {
     "name": "stdout",
     "output_type": "stream",
     "text": [
      "2\n"
     ]
    }
   ],
   "source": [
    "def count_vowels(s):\n",
    "\n",
    "    vowels = set(\"aeiouAEIOU\")\n",
    "    count = 0\n",
    "    for i in s:\n",
    "        if i in vowels:\n",
    "            count += 1\n",
    "    \n",
    "    return count\n",
    "print(count_vowels(\"hello\"))     \n"
   ]
  },
  {
   "cell_type": "code",
   "execution_count": 7,
   "metadata": {},
   "outputs": [
    {
     "name": "stdout",
     "output_type": "stream",
     "text": [
      "HelloWorld\n"
     ]
    }
   ],
   "source": [
    "a = \"Hello World\"\n",
    "b = a.replace(\" \", \"\")\n",
    "print(b)\n",
    "    "
   ]
  },
  {
   "cell_type": "code",
   "execution_count": 8,
   "metadata": {},
   "outputs": [
    {
     "name": "stdout",
     "output_type": "stream",
     "text": [
      "HELLO WORLD\n"
     ]
    }
   ],
   "source": [
    "a = \"hello world\"\n",
    "b = a.upper()\n",
    "print(b)"
   ]
  },
  {
   "cell_type": "code",
   "execution_count": 9,
   "metadata": {},
   "outputs": [
    {
     "name": "stdout",
     "output_type": "stream",
     "text": [
      "['h', 'e', 'l', 'l', 'o']\n"
     ]
    }
   ],
   "source": [
    "s =  'hello'\n",
    "a = list(s)\n",
    "print(a)\n"
   ]
  },
  {
   "cell_type": "code",
   "execution_count": 10,
   "metadata": {},
   "outputs": [
    {
     "name": "stdout",
     "output_type": "stream",
     "text": [
      "Hello, Python\n"
     ]
    }
   ],
   "source": [
    "a = \"Hello, World!\" \n",
    "b = a.replace(\"World!\", \"Python\")\n",
    "print(b)"
   ]
  },
  {
   "cell_type": "code",
   "execution_count": 11,
   "metadata": {},
   "outputs": [
    {
     "data": {
      "text/plain": [
       "[12, 88, 20, 32]"
      ]
     },
     "execution_count": 11,
     "metadata": {},
     "output_type": "execute_result"
    }
   ],
   "source": [
    "list1 = [1, 9, 12, 88, 65, 7, 20, 55, 47, 32]\n",
    "\n",
    "new = []\n",
    "\n",
    "for i in list1:\n",
    "    if  i%2==0:\n",
    "        new.append(i)\n",
    "new"
   ]
  },
  {
   "cell_type": "code",
   "execution_count": 20,
   "metadata": {},
   "outputs": [
    {
     "name": "stdout",
     "output_type": "stream",
     "text": [
      "student\n"
     ]
    }
   ],
   "source": [
    "d = [\n",
    "    { \"name\": \"Ali\", \"type\": \"Student\",\"description\": \"data science\"},\n",
    "    { \"name\": \"zohaib\",\"type\": \"student\",\"description\": \" data science\"}] \n",
    "for i in d:\n",
    "    if i[\"type\"] == \"student\":\n",
    "     print(i[\"type\"])"
   ]
  },
  {
   "cell_type": "code",
   "execution_count": 21,
   "metadata": {},
   "outputs": [
    {
     "name": "stdout",
     "output_type": "stream",
     "text": [
      "student\n"
     ]
    }
   ],
   "source": [
    "d = {\n",
    "    \"record\":{ \"name\": \"Ali\", \"type\": \"Student\",\"description\": \"data science\"},\n",
    "    \"record2\":{ \"name\": \"zohaib\",\"type\": \"student\",\"description\": \" data science\"}}\n",
    "print(d[\"record2\"][\"type\"])"
   ]
  },
  {
   "cell_type": "code",
   "execution_count": 6,
   "metadata": {},
   "outputs": [
    {
     "name": "stdout",
     "output_type": "stream",
     "text": [
      "[50, 65, 23, 82, 100]\n"
     ]
    }
   ],
   "source": [
    "def myfunc(n):\n",
    "  return abs(n - 50)\n",
    "\n",
    "thislist = [100, 50, 65, 82, 23]\n",
    "thislist.sort(key = myfunc)\n",
    "print(thislist)"
   ]
  },
  {
   "cell_type": "code",
   "execution_count": 12,
   "metadata": {},
   "outputs": [
    {
     "name": "stdout",
     "output_type": "stream",
     "text": [
      "Ford\n",
      "Mustang\n",
      "1964\n"
     ]
    }
   ],
   "source": [
    "thisdict =\t{\n",
    "  \"brand\": \"Ford\",\n",
    "  \"model\": \"Mustang\",\n",
    "  \"year\": 1964\n",
    "}\n",
    "#You can also use the values() method to return values of a dictionary:\n",
    "for x in thisdict.values():\n",
    "    print(x)"
   ]
  },
  {
   "cell_type": "code",
   "execution_count": 14,
   "metadata": {},
   "outputs": [
    {
     "name": "stdout",
     "output_type": "stream",
     "text": [
      "{'brand': 'Ford', 'model': 'Mustang', 'year': 1964}\n"
     ]
    }
   ],
   "source": [
    "thisdict =\t{\n",
    "  \"brand\": \"Ford\",\n",
    "  \"model\": \"Mustang\",\n",
    "  \"year\": 1964\n",
    "}\n",
    "mydict = dict(thisdict)\n",
    "print(mydict)"
   ]
  },
  {
   "cell_type": "code",
   "execution_count": null,
   "metadata": {},
   "outputs": [],
   "source": []
  }
 ],
 "metadata": {
  "kernelspec": {
   "display_name": "Python 3",
   "language": "python",
   "name": "python3"
  },
  "language_info": {
   "codemirror_mode": {
    "name": "ipython",
    "version": 3
   },
   "file_extension": ".py",
   "mimetype": "text/x-python",
   "name": "python",
   "nbconvert_exporter": "python",
   "pygments_lexer": "ipython3",
   "version": "3.11.9"
  }
 },
 "nbformat": 4,
 "nbformat_minor": 2
}
