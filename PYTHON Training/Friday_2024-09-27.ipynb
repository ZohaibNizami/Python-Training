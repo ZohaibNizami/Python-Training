{
 "cells": [
  {
   "cell_type": "markdown",
   "metadata": {},
   "source": [
    "### List\n",
    "- A list is an ordered, mutable collection of items in Python that allows you to store and manage multiple values together.\n",
    "which can be of any data type (such as integers, strings, or even other lists)."
   ]
  },
  {
   "cell_type": "markdown",
   "metadata": {},
   "source": [
    "### Properties:\n",
    "- Ordered: Elements have a specific order.\n",
    "- Mutable: Elements can be modified.\n",
    "- Dynamic Size: Can grow or shrink.\n",
    "- Indexed: Supports zero-based indexing and negative indexing.\n",
    "- Heterogeneous: Can contain mixed data types.\n",
    "- Duplicate Elements: Allows duplicates.\n",
    "- Iterable: Can be looped through.\n",
    "- Nesting: Can contain other lists.\n",
    "- Methods: Support built-in methods for manipulation."
   ]
  },
  {
   "cell_type": "markdown",
   "metadata": {},
   "source": [
    "### Syntex:\n",
    "- To create a list, you use square brackets [] and separate the elements by commas."
   ]
  },
  {
   "cell_type": "code",
   "execution_count": 84,
   "metadata": {},
   "outputs": [],
   "source": [
    "my_list = [1, 2, 3, 'hello', 4.5]"
   ]
  },
  {
   "cell_type": "markdown",
   "metadata": {},
   "source": [
    "### Methods:\n",
    "\n",
    "- append(item): Adds an item to the end of the list\n",
    "- emove(item): Removes the first occurrence of a specified item.\n",
    "- sort(): Sorts the list in ascending order."
   ]
  },
  {
   "cell_type": "markdown",
   "metadata": {},
   "source": [
    "### Indexing :\n",
    "- Indexing allows you to access individual elements in the list.\n",
    "- The index starts at 0 for the first element and can be negative to count from the end."
   ]
  },
  {
   "cell_type": "code",
   "execution_count": 85,
   "metadata": {},
   "outputs": [
    {
     "name": "stdout",
     "output_type": "stream",
     "text": [
      "1\n",
      "4.5\n"
     ]
    }
   ],
   "source": [
    "my_list = [1, 2, 3, 'hello', 4.5]\n",
    "\n",
    "print(my_list[0])  \n",
    "print(my_list[-1])  "
   ]
  },
  {
   "cell_type": "code",
   "execution_count": null,
   "metadata": {},
   "outputs": [],
   "source": []
  },
  {
   "cell_type": "markdown",
   "metadata": {},
   "source": [
    "### Slicing:\n",
    "\n",
    "- Slicing allows you to access a range of elements from the list. The syntax is list[start:end]"
   ]
  },
  {
   "cell_type": "code",
   "execution_count": 86,
   "metadata": {},
   "outputs": [
    {
     "name": "stdout",
     "output_type": "stream",
     "text": [
      "[2, 3]\n",
      "[1, 2, 3]\n",
      "[1, 3, 5]\n"
     ]
    }
   ],
   "source": [
    "my_list = [1, 2, 3, 4, 5]\n",
    "\n",
    "print(my_list[1:3])    \n",
    "print(my_list[:3])     \n",
    "print(my_list[::2]) "
   ]
  },
  {
   "cell_type": "markdown",
   "metadata": {},
   "source": [
    "### Loops : (for)\n",
    "\n",
    "- A for loop can be used to iterate over a list’s elements."
   ]
  },
  {
   "cell_type": "code",
   "execution_count": 126,
   "metadata": {},
   "outputs": [
    {
     "name": "stdout",
     "output_type": "stream",
     "text": [
      "1\n",
      "2\n",
      "3\n",
      "4\n"
     ]
    }
   ],
   "source": [
    "my_list = [1, 2, 3, 4]\n",
    "for item in my_list:\n",
    "    print(item)"
   ]
  },
  {
   "cell_type": "markdown",
   "metadata": {},
   "source": [
    "### While Loop:\n",
    "\n",
    "- You can also iterate over a list using a while loop with an index counter."
   ]
  },
  {
   "cell_type": "code",
   "execution_count": 1,
   "metadata": {},
   "outputs": [
    {
     "name": "stdout",
     "output_type": "stream",
     "text": [
      "1\n",
      "2\n",
      "3\n",
      "4\n",
      "5\n"
     ]
    }
   ],
   "source": [
    "my_list = [1, 2, 3, 4, 5]\n",
    "i = 0\n",
    "while i < len(my_list):\n",
    "    print(my_list[i])\n",
    "    i += 1"
   ]
  },
  {
   "cell_type": "markdown",
   "metadata": {},
   "source": [
    "### If-Else:\n",
    "\n",
    "- You can use if-else statements inside loops or on their own to check for conditions related to list elements."
   ]
  },
  {
   "cell_type": "code",
   "execution_count": 89,
   "metadata": {},
   "outputs": [
    {
     "name": "stdout",
     "output_type": "stream",
     "text": [
      "3 is in the list\n"
     ]
    }
   ],
   "source": [
    "my_list = [1, 2, 3, 4]\n",
    "\n",
    "# Example of checking for an item in the list\n",
    "if 3 in my_list:\n",
    "    print(\"3 is in the list\")\n",
    "else:\n",
    "    print(\"3 is not in the list\")"
   ]
  },
  {
   "cell_type": "markdown",
   "metadata": {},
   "source": [
    "### tuple:\n",
    "- Python tuples are a type of data structure that is very similar to lists. \n",
    "- tuples are immutable, meaning you cannot change, add, or remove elements after the tuple is created."
   ]
  },
  {
   "cell_type": "markdown",
   "metadata": {},
   "source": [
    "### Properties:\n",
    "-Ordered: The elements have a fixed, defined order.\n",
    "- Immutable: Once created, the elements cannot be changed, added, or removed.\n",
    "- Heterogeneous: Can contain elements of different data types.\n",
    "- Allow Duplicates: Supports duplicate elements.\n",
    "- Indexed: Supports access to elements using indexing (positive and negative).\n",
    "- Fixed Size: Size is fixed once a tuple is created.\n",
    "- Iterable: Can be looped through.\n",
    "- Nesting: Can contain other tuples (or lists).\n",
    "- Efficient Memory: More memory-efficient than lists.\n",
    "- Hashable: Can be used as dictionary keys or set elements, provided the elements are also hashable."
   ]
  },
  {
   "cell_type": "markdown",
   "metadata": {},
   "source": [
    "### Syntax:\n",
    "- Tuples are created by placing items inside parentheses () and separating them with commas.\n"
   ]
  },
  {
   "cell_type": "code",
   "execution_count": 90,
   "metadata": {},
   "outputs": [],
   "source": [
    "my_tuple = (1, 2, 3, 'hello', 4.5)"
   ]
  },
  {
   "cell_type": "markdown",
   "metadata": {},
   "source": [
    "### Methods:\n",
    "- count(item): Returns the number of times an item appears in the tuple.\n",
    "- index(item): Returns the index of the first occurrence of the specified item."
   ]
  },
  {
   "cell_type": "code",
   "execution_count": 91,
   "metadata": {},
   "outputs": [
    {
     "name": "stdout",
     "output_type": "stream",
     "text": [
      "2\n",
      "1\n"
     ]
    }
   ],
   "source": [
    "#count \n",
    "my_tuple = (1, 2, 2, 3)\n",
    "print(my_tuple.count(2)) \n",
    "#index \n",
    "print(my_tuple.index(2)) "
   ]
  },
  {
   "cell_type": "markdown",
   "metadata": {},
   "source": [
    "### Indexing:\n",
    "\n",
    "- You can access elements of a tuple using indexing. Indexing starts at 0 for the first element and can be negative to access elements from the end."
   ]
  },
  {
   "cell_type": "code",
   "execution_count": 92,
   "metadata": {},
   "outputs": [
    {
     "name": "stdout",
     "output_type": "stream",
     "text": [
      "1\n",
      "4.5\n"
     ]
    }
   ],
   "source": [
    "my_tuple = (1, 2, 3, 'hello', 4.5)\n",
    "\n",
    "print(my_tuple[0])   \n",
    "print(my_tuple[-1])"
   ]
  },
  {
   "cell_type": "markdown",
   "metadata": {},
   "source": [
    "### Slicing:\n",
    "\n",
    "- Just like lists, tuples support slicing to retrieve a portion of the tuple. The syntax is tuple[start:end], where start is the starting index and end is the stopping index (non-inclusive)."
   ]
  },
  {
   "cell_type": "code",
   "execution_count": 93,
   "metadata": {},
   "outputs": [
    {
     "name": "stdout",
     "output_type": "stream",
     "text": [
      "(2, 3, 4)\n",
      "(1, 2, 3)\n",
      "(1, 3, 5)\n"
     ]
    }
   ],
   "source": [
    "my_tuple = (1, 2, 3, 4, 5)\n",
    "\n",
    "print(my_tuple[1:4])    \n",
    "print(my_tuple[:3])    \n",
    "print(my_tuple[::2]) "
   ]
  },
  {
   "cell_type": "markdown",
   "metadata": {},
   "source": [
    "### Loops (for):\n",
    "\n",
    "- For Loop: You can iterate over a tuple’s elements using a for loop."
   ]
  },
  {
   "cell_type": "code",
   "execution_count": 94,
   "metadata": {},
   "outputs": [
    {
     "name": "stdout",
     "output_type": "stream",
     "text": [
      "1\n",
      "2\n",
      "3\n",
      "4\n"
     ]
    }
   ],
   "source": [
    "my_tuple = (1, 2, 3, 4)\n",
    "\n",
    "for item in my_tuple:\n",
    "    print(item)"
   ]
  },
  {
   "cell_type": "markdown",
   "metadata": {},
   "source": [
    "### loops (while):\n",
    "\n",
    "- You can also use a while loop to iterate over a tuple using an index."
   ]
  },
  {
   "cell_type": "code",
   "execution_count": 95,
   "metadata": {},
   "outputs": [
    {
     "name": "stdout",
     "output_type": "stream",
     "text": [
      "1\n",
      "2\n",
      "3\n",
      "4\n"
     ]
    }
   ],
   "source": [
    "my_tuple = (1, 2, 3, 4)\n",
    "i = 0\n",
    "while i < len(my_tuple):\n",
    "    print(my_tuple[i])\n",
    "    i += 1"
   ]
  },
  {
   "cell_type": "markdown",
   "metadata": {},
   "source": [
    "### If-Else:\n",
    "\n",
    "- You can use if-else statements to check conditions with tuples, just like with lists."
   ]
  },
  {
   "cell_type": "code",
   "execution_count": 96,
   "metadata": {},
   "outputs": [
    {
     "name": "stdout",
     "output_type": "stream",
     "text": [
      "3 is in the tuple\n"
     ]
    }
   ],
   "source": [
    "my_tuple = (1, 2, 3, 4)\n",
    "\n",
    "# Check if an item is in the tuple\n",
    "if 3 in my_tuple:\n",
    "    print(\"3 is in the tuple\")\n",
    "else:\n",
    "    print(\"3 is not in the tuple\")"
   ]
  },
  {
   "cell_type": "markdown",
   "metadata": {},
   "source": [
    "### Set:\n",
    "- Set is a data type in python used to store several items in a single variable."
   ]
  },
  {
   "cell_type": "markdown",
   "metadata": {},
   "source": [
    "### Syntax:\n",
    "\n",
    "- Sets are created using curly braces {} or the set() function."
   ]
  },
  {
   "cell_type": "code",
   "execution_count": 97,
   "metadata": {},
   "outputs": [],
   "source": [
    "my_set = {1, 2, 3, 'hello', 4.5}  # A set with integers, a string, and a float"
   ]
  },
  {
   "cell_type": "markdown",
   "metadata": {},
   "source": [
    "### Methods: \n",
    "- Sets offer several built-in methods to manipulate them. Some common methods are:\n",
    "- add(item): Adds an item to the set.\n",
    "- remove(item): Removes a specific item from the set. Raises an error if the item is not found.\n",
    "- clear(): Removes all items from the set."
   ]
  },
  {
   "cell_type": "markdown",
   "metadata": {},
   "source": [
    "### Indexing and Slicing:\n",
    "\n",
    "- Sets do not support indexing or slicing because they are unordered. This means you cannot access elements by position like you would with a list or tuple."
   ]
  },
  {
   "cell_type": "markdown",
   "metadata": {},
   "source": [
    "### Loops (for):\n",
    "- You can iterate over a set using loops, but the order of elements is not guaranteed."
   ]
  },
  {
   "cell_type": "code",
   "execution_count": 98,
   "metadata": {},
   "outputs": [
    {
     "name": "stdout",
     "output_type": "stream",
     "text": [
      "1\n",
      "2\n",
      "3\n",
      "hello\n"
     ]
    }
   ],
   "source": [
    "my_set = {1, 2, 3, 'hello'}\n",
    "\n",
    "for item in my_set:\n",
    "    print(item)"
   ]
  },
  {
   "cell_type": "markdown",
   "metadata": {},
   "source": [
    "### While Loop:\n",
    "- Since sets don't have indices, a while loop must be based on converting the set into another iterable, such as a list."
   ]
  },
  {
   "cell_type": "code",
   "execution_count": 99,
   "metadata": {},
   "outputs": [
    {
     "name": "stdout",
     "output_type": "stream",
     "text": [
      "1\n",
      "2\n",
      "3\n"
     ]
    }
   ],
   "source": [
    "my_set = {1, 2, 3}\n",
    "items = list(my_set)  # Convert to list\n",
    "\n",
    "i = 0\n",
    "while i < len(items):\n",
    "    print(items[i])\n",
    "    i += 1"
   ]
  },
  {
   "cell_type": "markdown",
   "metadata": {},
   "source": [
    "### If-Else:\n",
    "- You can use if-else statements to check the existence of elements or conditions in sets."
   ]
  },
  {
   "cell_type": "code",
   "execution_count": 100,
   "metadata": {},
   "outputs": [
    {
     "name": "stdout",
     "output_type": "stream",
     "text": [
      "2 is in the set\n"
     ]
    }
   ],
   "source": [
    "my_set = {1, 2, 3}\n",
    "\n",
    "if 2 in my_set:\n",
    "    print(\"2 is in the set\")\n",
    "else:\n",
    "    print(\"2 is not in the set\")\n"
   ]
  },
  {
   "cell_type": "markdown",
   "metadata": {},
   "source": [
    "### Dictionary :\n",
    "- A dictionary in Python is a mutable, unordered collection of key-value pairs. Each key in a dictionary is unique, and it maps to a specific value. "
   ]
  },
  {
   "cell_type": "markdown",
   "metadata": {},
   "source": [
    "### Syntax:\n",
    "- A dictionary is created using curly braces {} or the dict() function. The syntax is as follows:"
   ]
  },
  {
   "cell_type": "code",
   "execution_count": 101,
   "metadata": {},
   "outputs": [],
   "source": [
    "my_dict = {\n",
    "    \"key1\": \"value1\",\n",
    "    \"key2\": \"value2\",\n",
    "    \"key3\": \"value3\"\n",
    "}"
   ]
  },
  {
   "cell_type": "markdown",
   "metadata": {},
   "source": [
    "### Methods:\n",
    "- dict.keys(): Returns a view object that displays a list of all keys in the dictionary.\n",
    "- dict.clear(): Removes all items from the dictionary.\n",
    "- dict.copy(): Returns a shallow copy of the dictionary."
   ]
  },
  {
   "cell_type": "code",
   "execution_count": 102,
   "metadata": {},
   "outputs": [
    {
     "name": "stdout",
     "output_type": "stream",
     "text": [
      "2\n",
      "dict_keys(['a', 'b', 'c'])\n",
      "dict_values([1, 2, 3])\n"
     ]
    }
   ],
   "source": [
    "my_dict = {\"a\": 1, \"b\": 2, \"c\": 3}\n",
    "print(my_dict.get(\"b\"))  \n",
    "print(my_dict.keys())     \n",
    "print(my_dict.values())    \n"
   ]
  },
  {
   "cell_type": "markdown",
   "metadata": {},
   "source": [
    "### Indexing:\n",
    "- Dictionaries in Python are unordered, so they don’t support indexing in the way lists or tuples do.\n"
   ]
  },
  {
   "cell_type": "code",
   "execution_count": 103,
   "metadata": {},
   "outputs": [
    {
     "name": "stdout",
     "output_type": "stream",
     "text": [
      "John\n",
      "30\n",
      "New York\n"
     ]
    }
   ],
   "source": [
    "my_dict = {\"name\": \"John\", \"age\": 30, \"city\": \"New York\"}\n",
    "print(my_dict[\"name\"])\n",
    "print(my_dict[\"age\"]) \n",
    "print(my_dict[\"city\"]) \n"
   ]
  },
  {
   "cell_type": "code",
   "execution_count": 104,
   "metadata": {},
   "outputs": [
    {
     "name": "stdout",
     "output_type": "stream",
     "text": [
      "{'a': 1, 'b': 2}\n"
     ]
    }
   ],
   "source": [
    "my_dict = {\"a\": 1, \"b\": 2, \"c\": 3, \"d\": 4}\n",
    "# Slicing first two key-value pairs\n",
    "sliced_dict = {k: my_dict[k] for k in list(my_dict.keys())[:2]}\n",
    "print(sliced_dict) "
   ]
  },
  {
   "cell_type": "markdown",
   "metadata": {},
   "source": [
    "### Loops (for):\n",
    "- For Loop: You can iterate through a dictionary’s keys, values, or items."
   ]
  },
  {
   "cell_type": "code",
   "execution_count": 105,
   "metadata": {},
   "outputs": [
    {
     "name": "stdout",
     "output_type": "stream",
     "text": [
      "name\n",
      "age\n",
      "city\n",
      "Alice\n",
      "25\n",
      "London\n",
      "name: Alice\n",
      "age: 25\n",
      "city: London\n"
     ]
    }
   ],
   "source": [
    "my_dict = {\"name\": \"Alice\", \"age\": 25, \"city\": \"London\"}\n",
    "\n",
    "# Loop through keys\n",
    "for key in my_dict:\n",
    "    print(key)\n",
    "\n",
    "# Loop through values\n",
    "for value in my_dict.values():\n",
    "    print(value)\n",
    "\n",
    "# Loop through key-value pairs\n",
    "for key, value in my_dict.items():\n",
    "    print(f\"{key}: {value}\")\n"
   ]
  },
  {
   "cell_type": "markdown",
   "metadata": {},
   "source": [
    "### While Loop:\n",
    "- You rarely use while loops with dictionaries directly, but here’s an example of iterating through dictionary keys with a while loop:"
   ]
  },
  {
   "cell_type": "code",
   "execution_count": 106,
   "metadata": {},
   "outputs": [
    {
     "name": "stdout",
     "output_type": "stream",
     "text": [
      "a: 1\n",
      "b: 2\n",
      "c: 3\n"
     ]
    }
   ],
   "source": [
    "my_dict = {\"a\": 1, \"b\": 2, \"c\": 3}\n",
    "keys = list(my_dict.keys())\n",
    "i = 0\n",
    "\n",
    "while i < len(keys):\n",
    "    key = keys[i]\n",
    "    print(f\"{key}: {my_dict[key]}\")\n",
    "    i += 1"
   ]
  },
  {
   "cell_type": "markdown",
   "metadata": {},
   "source": [
    "### if-Else :\n",
    "You can check if a key exists in a dictionary using if statements:"
   ]
  },
  {
   "cell_type": "code",
   "execution_count": 125,
   "metadata": {},
   "outputs": [
    {
     "name": "stdout",
     "output_type": "stream",
     "text": [
      "Name is present\n",
      "City already exists\n"
     ]
    }
   ],
   "source": [
    "my_dict = {\"name\": \"Bob\", \"city\":\"\", \"age\": 28}\n",
    "\n",
    "if \"name\" in my_dict:\n",
    "    print(\"Name is present\")\n",
    "else:\n",
    "    print(\"Name is not present\")\n",
    "\n",
    "if \"city\" not in my_dict:\n",
    "    my_dict[\"city\"] = \"unknown\"\n",
    "else:\n",
    "    print(\"City already exists\")"
   ]
  },
  {
   "cell_type": "markdown",
   "metadata": {},
   "source": [
    "### String : \n",
    "- A string is a sequence of characters enclosed in either single quotes ('') or double quotes (“”)."
   ]
  },
  {
   "cell_type": "markdown",
   "metadata": {},
   "source": [
    "### Syntex :\n",
    "- Strings can be created using single ('...'), double (\"...\"), or triple quotes ('''...''' or \"\"\"...\"\"\"):"
   ]
  },
  {
   "cell_type": "code",
   "execution_count": 108,
   "metadata": {},
   "outputs": [],
   "source": [
    "str1 = 'Hello'\n",
    "str2 = \"World\"\n",
    "str3 = '''This is a multi-line\n",
    "string'''"
   ]
  },
  {
   "cell_type": "markdown",
   "metadata": {},
   "source": [
    "### String Methods: \n",
    "Python provides many built-in methods to work with strings. Some commonly used methods are:\n",
    "\n",
    "- str.upper(): Converts all characters in the string to uppercase.\n",
    "- str.lower(): Converts all characters in the string to lowercase."
   ]
  },
  {
   "cell_type": "code",
   "execution_count": 109,
   "metadata": {},
   "outputs": [
    {
     "name": "stdout",
     "output_type": "stream",
     "text": [
      "HELLO WORLD\n",
      "['hello', 'world']\n"
     ]
    }
   ],
   "source": [
    "my_string = \"hello world\"\n",
    "print(my_string.upper())  \n",
    "print(my_string.split())         \n"
   ]
  },
  {
   "cell_type": "code",
   "execution_count": 120,
   "metadata": {},
   "outputs": [
    {
     "name": "stdout",
     "output_type": "stream",
     "text": [
      "P\n",
      "h\n"
     ]
    }
   ],
   "source": [
    "#Indexing\n",
    "my_string = \"Python\"\n",
    "\n",
    "print(my_string[0])  \n",
    "print(my_string[-3]) "
   ]
  },
  {
   "cell_type": "markdown",
   "metadata": {},
   "source": [
    "### Slicing:\n",
    "\n",
    "Slicing allows you to access a substring by specifying a range of indices. The syntax for slicing is:"
   ]
  },
  {
   "cell_type": "code",
   "execution_count": 111,
   "metadata": {},
   "outputs": [
    {
     "name": "stdout",
     "output_type": "stream",
     "text": [
      "Python\n",
      "Programming\n",
      "Pyth\n"
     ]
    }
   ],
   "source": [
    "my_string = \"Python Programming\"\n",
    "print(my_string[:6])\n",
    "print(my_string[7:])\n",
    "print(my_string[:4]) "
   ]
  },
  {
   "cell_type": "markdown",
   "metadata": {},
   "source": [
    "### Loops (for): \n",
    "for Loop: You can iterate through each character of a string using a for loop."
   ]
  },
  {
   "cell_type": "code",
   "execution_count": 112,
   "metadata": {},
   "outputs": [
    {
     "name": "stdout",
     "output_type": "stream",
     "text": [
      "H\n",
      "e\n",
      "l\n",
      "l\n",
      "o\n"
     ]
    }
   ],
   "source": [
    "my_string = \"Hello\"\n",
    "\n",
    "for char in my_string:\n",
    "    print(char)"
   ]
  },
  {
   "cell_type": "markdown",
   "metadata": {},
   "source": [
    "### While Loop: \n",
    "You can use a while loop to iterate through the string by index."
   ]
  },
  {
   "cell_type": "code",
   "execution_count": 113,
   "metadata": {},
   "outputs": [
    {
     "name": "stdout",
     "output_type": "stream",
     "text": [
      "H\n",
      " \n",
      "e\n",
      " \n",
      "l\n",
      " \n",
      "l\n",
      " \n",
      "o\n"
     ]
    }
   ],
   "source": [
    "my_string = \"H e l l o\"\n",
    "i = 0\n",
    "\n",
    "while i < len(my_string):\n",
    "    print(my_string[i])\n",
    "    i += 1\n"
   ]
  },
  {
   "cell_type": "markdown",
   "metadata": {},
   "source": [
    "## Practice 5 Questions of each topic."
   ]
  },
  {
   "cell_type": "code",
   "execution_count": 114,
   "metadata": {},
   "outputs": [
    {
     "name": "stdout",
     "output_type": "stream",
     "text": [
      "['apple', 'banana', 'cherry', 'orange']\n"
     ]
    }
   ],
   "source": [
    "thislist = [\"apple\", \"banana\", \"cherry\"]\n",
    "thislist.append(\"orange\")\n",
    "print(thislist)"
   ]
  },
  {
   "cell_type": "code",
   "execution_count": 115,
   "metadata": {},
   "outputs": [
    {
     "name": "stdout",
     "output_type": "stream",
     "text": [
      "['apple', 'orange', 'banana', 'cherry']\n"
     ]
    }
   ],
   "source": [
    "thislist = [\"apple\", \"banana\", \"cherry\"]\n",
    "thislist.insert(1, \"orange\")\n",
    "print(thislist)"
   ]
  },
  {
   "cell_type": "code",
   "execution_count": null,
   "metadata": {},
   "outputs": [],
   "source": [
    "mathod without using "
   ]
  }
 ],
 "metadata": {
  "kernelspec": {
   "display_name": "Python 3",
   "language": "python",
   "name": "python3"
  },
  "language_info": {
   "codemirror_mode": {
    "name": "ipython",
    "version": 3
   },
   "file_extension": ".py",
   "mimetype": "text/x-python",
   "name": "python",
   "nbconvert_exporter": "python",
   "pygments_lexer": "ipython3",
   "version": "3.11.9"
  }
 },
 "nbformat": 4,
 "nbformat_minor": 2
}
