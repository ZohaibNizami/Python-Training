{
 "cells": [
  {
   "cell_type": "markdown",
   "metadata": {},
   "source": [
    "### User-defined function:\n",
    "lets you create a function by using a SQL expression or JavaScript code.\n",
    " in programming, especially in Python, are functions that a user creates to perform specific tasks."
   ]
  },
  {
   "cell_type": "code",
   "execution_count": 19,
   "metadata": {},
   "outputs": [],
   "source": [
    "def function_name(parameters):\n",
    "    return value"
   ]
  },
  {
   "cell_type": "markdown",
   "metadata": {},
   "source": [
    "### Syntax of a User-Defined Function in Python:\n",
    "- def: This keyword is used to define a function.\n",
    "- function_name: The name of the function.\n",
    "- parameters: Optional. These are values passed to the function for processing. Multiple parameters are separated by commas.\n",
    "- return: Optional. It is used to return a value from the function (if needed)."
   ]
  },
  {
   "cell_type": "markdown",
   "metadata": {},
   "source": [
    "### Example of a Simple User-Defined Function:"
   ]
  },
  {
   "cell_type": "code",
   "execution_count": 131,
   "metadata": {},
   "outputs": [
    {
     "name": "stdout",
     "output_type": "stream",
     "text": [
      "Hello, Zohaib!\n"
     ]
    }
   ],
   "source": [
    "def Name(Zohaib):\n",
    "    return f\"Hello, {Zohaib}!\"\n",
    "\n",
    "\n",
    "\n",
    "message = Name(\"Zohaib\") \n",
    "print(message)\n"
   ]
  },
  {
   "cell_type": "markdown",
   "metadata": {},
   "source": [
    "### Key Concepts of User-Defined Functions:\n",
    "Function Definition: This is where the function is written using the def keyword.\n",
    "\n",
    "Parameters (Arguments): Functions can take arguments to perform tasks. These arguments can be optional or required.\n",
    "\n",
    "- \n",
    "\n",
    "\n",
    "\n",
    "\n",
    "Positional Arguments: Parameters are matched based on the order in which they are passed.\n",
    "- Keyword Arguments: You can specify arguments by the parameter name during a function call."
   ]
  },
  {
   "cell_type": "markdown",
   "metadata": {},
   "source": [
    "### Types of User-Defined Functions:\n",
    "\n",
    "- Void Functions: Functions that do not return a value.\n",
    "- Value-Returning Functions: Functions that return a value.\n",
    "- Recursive Functions: Functions that call themselves recursively to solve a problem. \n",
    "- Lambda Functions: Small, anonymous functions that can be defined inline."
   ]
  },
  {
   "cell_type": "code",
   "execution_count": 135,
   "metadata": {},
   "outputs": [
    {
     "name": "stdout",
     "output_type": "stream",
     "text": [
      "result:(275, 18)\n"
     ]
    }
   ],
   "source": [
    "def multiply(a, b):\n",
    "    return a * b\n",
    "\n",
    "Result = multiply(55, 5)  # Positional arguments\n",
    "result = multiply(a=3, b=6)\n",
    "print(f\"result:{Result,result}\")\n",
    "  # Keyword arguments # Corrected print statement\n"
   ]
  },
  {
   "cell_type": "code",
   "execution_count": 73,
   "metadata": {},
   "outputs": [
    {
     "name": "stdout",
     "output_type": "stream",
     "text": [
      "result:10\n"
     ]
    }
   ],
   "source": [
    "def add(a, b):\n",
    "    return a + b\n",
    "\n",
    "result = add(3, 7)\n",
    "print(f\"result:{result}\")"
   ]
  },
  {
   "cell_type": "code",
   "execution_count": 72,
   "metadata": {},
   "outputs": [
    {
     "name": "stdout",
     "output_type": "stream",
     "text": [
      "10\n"
     ]
    }
   ],
   "source": [
    "def sum_all(*args):\n",
    "    return sum(args)\n",
    "\n",
    "print(sum_all(1, 2, 3, 4))"
   ]
  },
  {
   "cell_type": "markdown",
   "metadata": {},
   "source": [
    "### Scope:\n",
    "Variables defined inside a function are local to that function and are not accessible outside of it. This is known as the scope of a variable."
   ]
  },
  {
   "cell_type": "code",
   "execution_count": 85,
   "metadata": {},
   "outputs": [
    {
     "name": "stdout",
     "output_type": "stream",
     "text": [
      "10\n"
     ]
    }
   ],
   "source": [
    "def my_function():\n",
    "    x = 10  # x is local to this function\n",
    "    print(x)\n",
    "my_function()"
   ]
  },
  {
   "cell_type": "markdown",
   "metadata": {},
   "source": [
    "### Variable-Length Arguments:\n",
    "\n",
    "Functions can accept a variable number of arguments using *args (for non-keyword arguments)\n",
    "- **args: Collects extra positional arguments.\n",
    "- **kwargs: Collects extra keyword arguments."
   ]
  },
  {
   "cell_type": "code",
   "execution_count": 45,
   "metadata": {},
   "outputs": [
    {
     "name": "stdout",
     "output_type": "stream",
     "text": [
      "name: John\n",
      "age: 25\n"
     ]
    }
   ],
   "source": [
    "def sum_all(*args):\n",
    "    return sum(args)\n",
    "\n",
    "def print_info(**kwargs):\n",
    "    for key, value in kwargs.items():\n",
    "        print(f\"{key}: {value}\")\n",
    "print_info(name=\"John\", age=25)"
   ]
  },
  {
   "cell_type": "markdown",
   "metadata": {},
   "source": [
    "### What are Built-in Functions?\n",
    "- Built-in functions in Python are predefined functions that are always available for use without the need to import any additional modules.\n",
    "Built-in functions can perform a variety of tasks such as:\n",
    "\n",
    "### Type conversion\n",
    "- Input/output operations\n",
    "- Mathematical calculations\n",
    "- String manipulations\n",
    "- Data structure operations"
   ]
  },
  {
   "cell_type": "markdown",
   "metadata": {},
   "source": [
    "### Common Built-in Functions in Python:\n",
    "##### Type Conversion Functions:\n",
    "\n",
    "- int(): Converts a value to an integer.\n",
    "- float(): Converts a value to a floating-point number.\n",
    "- str(): Converts a value to a string.\n",
    "- bool(): Converts a value to a boolean.\n",
    "- list(): Converts an iterable into a list.\n",
    "- tuple(): Converts an iterable into a tuple."
   ]
  },
  {
   "cell_type": "code",
   "execution_count": 46,
   "metadata": {},
   "outputs": [
    {
     "name": "stdout",
     "output_type": "stream",
     "text": [
      "10\n",
      "3.14\n",
      "123\n"
     ]
    }
   ],
   "source": [
    "print(int('10'))   \n",
    "print(float('3.14'))  \n",
    "print(str(123)) "
   ]
  },
  {
   "cell_type": "markdown",
   "metadata": {},
   "source": [
    "### Mathematical Functions:\n",
    "\n",
    "- abs(): Returns the absolute value of a number.\n",
    "- min(): Returns the smallest item from an iterable or two or more arguments.\n",
    "- max(): Returns the largest item from an iterable or two or more arguments.\n",
    "- sum(): Returns the sum of all items in an iterable.\n",
    "- pow(): Returns a number raised to the power of another.\n",
    "- round(): Rounds a number to a specified number of decimal places."
   ]
  },
  {
   "cell_type": "code",
   "execution_count": 51,
   "metadata": {},
   "outputs": [
    {
     "name": "stdout",
     "output_type": "stream",
     "text": [
      "5\n",
      "1\n",
      "5\n",
      "6\n",
      "8\n",
      "3.14\n"
     ]
    }
   ],
   "source": [
    "print(abs(-5))        # Output: 5\n",
    "print(min(2, 5, 1))   # Output: 1\n",
    "print(max(2, 5, 1))   # Output: 5\n",
    "print(sum([1, 2, 3])) # Output: 6\n",
    "print(pow(2, 3))      # Output: 8\n",
    "print(round(3.1415, 2))  # Output: 3.14\n"
   ]
  },
  {
   "cell_type": "markdown",
   "metadata": {},
   "source": [
    "### Input/Output Functions:\n",
    "\n",
    "- print(): Prints the specified message to the screen.\n",
    "- input(): Allows the user to input data from the keyboard.\n",
    "- open(): Opens a file and returns a file object"
   ]
  },
  {
   "cell_type": "code",
   "execution_count": 52,
   "metadata": {},
   "outputs": [
    {
     "name": "stdout",
     "output_type": "stream",
     "text": [
      "Hello, zohaib!\n"
     ]
    }
   ],
   "source": [
    "name = input(\"Enter your name: \")\n",
    "print(f\"Hello, {name}!\")"
   ]
  },
  {
   "cell_type": "markdown",
   "metadata": {},
   "source": [
    "### String Manipulation Functions:\n",
    "\n",
    "- len(): Returns the length of a string (or any iterable).\n",
    "- ord(): Returns the Unicode code of a character.\n",
    "- chr(): Converts a Unicode code to its corresponding character."
   ]
  },
  {
   "cell_type": "code",
   "execution_count": 53,
   "metadata": {},
   "outputs": [
    {
     "name": "stdout",
     "output_type": "stream",
     "text": [
      "5\n",
      "65\n",
      "A\n"
     ]
    }
   ],
   "source": [
    "print(len(\"Hello\"))  \n",
    "print(ord('A'))      \n",
    "print(chr(65)) "
   ]
  },
  {
   "cell_type": "markdown",
   "metadata": {},
   "source": [
    "### Data Structure Operations:\n",
    "\n",
    "- len(): Returns the number of elements in a list, tuple, set, etc.\n",
    "- sorted(): Returns a sorted list of items from an iterable.\n",
    "- reversed(): Returns an iterator that yields items in reverse order.\n",
    "- enumerate(): Adds a counter to an iterable and returns it as an enumerate object.\n",
    "- zip(): Combines two or more iterables into a single iterator of tuples."
   ]
  },
  {
   "cell_type": "markdown",
   "metadata": {},
   "source": [
    "### Type Checking Functions:\n",
    "\n",
    "- isinstance(): Checks if an object is an instance of a particular class or type.\n",
    "- type(): Returns the type of an object\n",
    "### Any and All:\n",
    "\n",
    "- any(): Returns True if any element in an iterable is True, otherwise returns False.\n",
    "- all(): Returns True if all elements in an iterable are True, otherwise returns False."
   ]
  },
  {
   "cell_type": "code",
   "execution_count": 56,
   "metadata": {},
   "outputs": [
    {
     "name": "stdout",
     "output_type": "stream",
     "text": [
      "True\n",
      "<class 'int'>\n",
      "True\n",
      "False\n"
     ]
    }
   ],
   "source": [
    "print(isinstance(5, int))   # Output: True\n",
    "print(type(5))              # Output: <class 'int'>\n",
    "#Any #All\n",
    "print(any([0, 1, 2]))  # Output: True (because 1 and 2 are truthy)\n",
    "print(all([0, 1, 2]))  # Output: False (because 0 is falsy)\n"
   ]
  },
  {
   "cell_type": "markdown",
   "metadata": {},
   "source": [
    "### Evaluation Functions:\n",
    "\n",
    "- eval(): Evaluates a Python expression passed as a string.\n",
    "- exec(): Executes Python code dynamically.\n",
    "\n",
    "### Help and Documentation:\n",
    "\n",
    "- help(): Displays documentation about a module, function, class, or object.\n",
    "- dir(): Returns a list of valid attributes and methods for an object."
   ]
  },
  {
   "cell_type": "code",
   "execution_count": 59,
   "metadata": {},
   "outputs": [
    {
     "name": "stdout",
     "output_type": "stream",
     "text": [
      "5\n"
     ]
    }
   ],
   "source": [
    "eval_result = eval('2 + 3')\n",
    "print(eval_result)   "
   ]
  },
  {
   "cell_type": "code",
   "execution_count": 60,
   "metadata": {},
   "outputs": [
    {
     "name": "stdout",
     "output_type": "stream",
     "text": [
      "Help on built-in function print in module builtins:\n",
      "\n",
      "print(*args, sep=' ', end='\\n', file=None, flush=False)\n",
      "    Prints the values to a stream, or to sys.stdout by default.\n",
      "    \n",
      "    sep\n",
      "      string inserted between values, default a space.\n",
      "    end\n",
      "      string appended after the last value, default a newline.\n",
      "    file\n",
      "      a file-like object (stream); defaults to the current sys.stdout.\n",
      "    flush\n",
      "      whether to forcibly flush the stream.\n",
      "\n",
      "['__add__', '__class__', '__contains__', '__delattr__', '__dir__', '__doc__', '__eq__', '__format__', '__ge__', '__getattribute__', '__getitem__', '__getnewargs__', '__getstate__', '__gt__', '__hash__', '__init__', '__init_subclass__', '__iter__', '__le__', '__len__', '__lt__', '__mod__', '__mul__', '__ne__', '__new__', '__reduce__', '__reduce_ex__', '__repr__', '__rmod__', '__rmul__', '__setattr__', '__sizeof__', '__str__', '__subclasshook__', 'capitalize', 'casefold', 'center', 'count', 'encode', 'endswith', 'expandtabs', 'find', 'format', 'format_map', 'index', 'isalnum', 'isalpha', 'isascii', 'isdecimal', 'isdigit', 'isidentifier', 'islower', 'isnumeric', 'isprintable', 'isspace', 'istitle', 'isupper', 'join', 'ljust', 'lower', 'lstrip', 'maketrans', 'partition', 'removeprefix', 'removesuffix', 'replace', 'rfind', 'rindex', 'rjust', 'rpartition', 'rsplit', 'rstrip', 'split', 'splitlines', 'startswith', 'strip', 'swapcase', 'title', 'translate', 'upper', 'zfill']\n"
     ]
    }
   ],
   "source": [
    "help(print)  \n",
    "print(dir(str)) "
   ]
  },
  {
   "cell_type": "markdown",
   "metadata": {},
   "source": [
    "### Use lambda function instead of for loop:"
   ]
  },
  {
   "cell_type": "code",
   "execution_count": 142,
   "metadata": {},
   "outputs": [
    {
     "name": "stdout",
     "output_type": "stream",
     "text": [
      " output: mango, output: -15\n"
     ]
    }
   ],
   "source": [
    "\n",
    "sample_dict = { 'banana': 15, 'mango': -15, 'orange': 9 } \n",
    "\n",
    "min_key = min(sample_dict, key=lambda d: sample_dict[d])\n",
    "min_value = sample_dict[min_key]\n",
    "print(f\" output: {min_key}, output: {min_value}\")\n",
    "\n"
   ]
  },
  {
   "cell_type": "code",
   "execution_count": 144,
   "metadata": {},
   "outputs": [
    {
     "name": "stdout",
     "output_type": "stream",
     "text": [
      "output: orange, output: 34\n"
     ]
    }
   ],
   "source": [
    "\n",
    "sample_dict = { 'orange': 34, 'banana': -5, 'mango': 7 }  \n",
    "\n",
    "max_key = max(sample_dict, key=lambda d: sample_dict[d])\n",
    "max_value = sample_dict[max_key]\n",
    "print(f\"output: {max_key}, output: {max_value}\")\n",
    "\n"
   ]
  },
  {
   "cell_type": "code",
   "execution_count": 103,
   "metadata": {},
   "outputs": [
    {
     "name": "stdout",
     "output_type": "stream",
     "text": [
      "[1, 4, 9, 16, 25, 36, 49, 64, 81, 100]\n"
     ]
    }
   ],
   "source": [
    "squares = []\n",
    "for x in range(1, 11):\n",
    " squares.append(x**2)\n",
    "squares = [x**2 for x in range(1, 11)]\n",
    "print(squares)"
   ]
  },
  {
   "cell_type": "code",
   "execution_count": 112,
   "metadata": {},
   "outputs": [
    {
     "name": "stdout",
     "output_type": "stream",
     "text": [
      "Peso is a great dog!\n",
      "Peso is sitting.\n"
     ]
    }
   ],
   "source": [
    "class Dog:\n",
    "    \"\"\"Represent a dog.\"\"\"\n",
    "    \n",
    "    def __init__(self, name):\n",
    "        \"\"\"Initialize dog object.\"\"\"\n",
    "        self.name = name\n",
    "\n",
    "    def sit(self):\n",
    "        \"\"\"Simulate sitting.\"\"\"\n",
    "        print(self.name + \" is sitting.\")\n",
    "\n",
    "# Creating an instance of Dog class\n",
    "my_dog = Dog('Peso')\n",
    "\n",
    "# Accessing attributes and calling methods\n",
    "print(my_dog.name + \" is a great dog!\")\n",
    "my_dog.sit()\n"
   ]
  },
  {
   "cell_type": "code",
   "execution_count": 122,
   "metadata": {},
   "outputs": [
    {
     "name": "stdout",
     "output_type": "stream",
     "text": [
      "15\n"
     ]
    }
   ],
   "source": [
    "def sum_of_list(numbers):\n",
    "    total = 0\n",
    "    for num in numbers:\n",
    "        total += num\n",
    "    return total\n",
    "print(sum_of_list([1, 2, 3, 4, 5]))"
   ]
  },
  {
   "cell_type": "code",
   "execution_count": 125,
   "metadata": {},
   "outputs": [
    {
     "name": "stdout",
     "output_type": "stream",
     "text": [
      "The area of the rectangle is: 15\n"
     ]
    }
   ],
   "source": [
    "# Define a function to calculate the area of a rectangle\n",
    "def area_of_rectangle(length, width):\n",
    "    area = length * width\n",
    "    return area\n",
    "result = area_of_rectangle(5, 3)\n",
    "print(f\"The area of the rectangle is: {result}\")\n"
   ]
  },
  {
   "cell_type": "code",
   "execution_count": 137,
   "metadata": {},
   "outputs": [
    {
     "name": "stdout",
     "output_type": "stream",
     "text": [
      "15\n"
     ]
    }
   ],
   "source": [
    "def celc():\n",
    "    a=5\n",
    "    b=10\n",
    "    c= (a+b)\n",
    "    print(c)\n",
    "celc()"
   ]
  },
  {
   "cell_type": "code",
   "execution_count": 141,
   "metadata": {},
   "outputs": [
    {
     "name": "stdout",
     "output_type": "stream",
     "text": [
      "16\n"
     ]
    }
   ],
   "source": [
    "def name():\n",
    "    a=4\n",
    "    b=4\n",
    "    c= (a*b)\n",
    "    print(c)\n",
    "    return\n",
    "name()"
   ]
  },
  {
   "cell_type": "code",
   "execution_count": null,
   "metadata": {},
   "outputs": [],
   "source": []
  }
 ],
 "metadata": {
  "kernelspec": {
   "display_name": "Python 3",
   "language": "python",
   "name": "python3"
  },
  "language_info": {
   "codemirror_mode": {
    "name": "ipython",
    "version": 3
   },
   "file_extension": ".py",
   "mimetype": "text/x-python",
   "name": "python",
   "nbconvert_exporter": "python",
   "pygments_lexer": "ipython3",
   "version": "3.11.9"
  }
 },
 "nbformat": 4,
 "nbformat_minor": 2
}
