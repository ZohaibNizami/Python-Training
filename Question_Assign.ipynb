{
 "cells": [
  {
   "cell_type": "markdown",
   "metadata": {},
   "source": [
    "#### Q1 : Write a program that will find all such numbers divisible by 7 but not a multiple of 5, between 2000 and 3200 (both included).The numbers obtained should be printed in a comma-separated sequence on a single line."
   ]
  },
  {
   "cell_type": "code",
   "execution_count": 1,
   "metadata": {},
   "outputs": [
    {
     "name": "stdout",
     "output_type": "stream",
     "text": [
      "2002,2009,2016,2023,2037,2044,2051,2058,2072,2079,2086,2093,2107,2114,2121,2128,2142,2149,2156,2163,2177,2184,2191,2198,2212,2219,2226,2233,2247,2254,2261,2268,2282,2289,2296,2303,2317,2324,2331,2338,2352,2359,2366,2373,2387,2394,2401,2408,2422,2429,2436,2443,2457,2464,2471,2478,2492,2499,2506,2513,2527,2534,2541,2548,2562,2569,2576,2583,2597,2604,2611,2618,2632,2639,2646,2653,2667,2674,2681,2688,2702,2709,2716,2723,2737,2744,2751,2758,2772,2779,2786,2793,2807,2814,2821,2828,2842,2849,2856,2863,2877,2884,2891,2898,2912,2919,2926,2933,2947,2954,2961,2968,2982,2989,2996,3003,3017,3024,3031,3038,3052,3059,3066,3073,3087,3094,3101,3108,3122,3129,3136,3143,3157,3164,3171,3178,3192,3199\n"
     ]
    }
   ],
   "source": [
    "result = []\n",
    "for num in range(2000,3201):\n",
    "    if num %7 == 0 and num %5 != 0:\n",
    "              result.append(str(num))\n",
    "\n",
    "print(','.join(result))"
   ]
  },
  {
   "cell_type": "markdown",
   "metadata": {},
   "source": [
    "#### Q2 Write a program that can compute the factorial of a given number. The results should be printed in a comma-separated sequence on a single line.Suppose the following input is supplied to the program: 8 Then, the output should be: 40320"
   ]
  },
  {
   "cell_type": "code",
   "execution_count": 2,
   "metadata": {},
   "outputs": [
    {
     "name": "stdout",
     "output_type": "stream",
     "text": [
      "40320\n"
     ]
    }
   ],
   "source": [
    "n = int(input(\"Enter a number for factorial: \")) \n",
    "def fact(n):\n",
    "    result = 1\n",
    "    for i in range(1, n+1):\n",
    "        result *= i  \n",
    "    return result\n",
    " \n",
    "print(fact(n))"
   ]
  },
  {
   "cell_type": "markdown",
   "metadata": {},
   "source": [
    "#### Q3 With a given integral number n, write a program to generate a dictionary that contains (i, i*i), an integral number between 1 and n (both included). Then, the program should print the dictionary. Suppose the following input is supplied to the program:8 Then, the output should be: {1: 1, 2: 4, 3: 9, 4: 16, 5: 25, 6: 36, 7: 49, 8: 64}"
   ]
  },
  {
   "cell_type": "code",
   "execution_count": 3,
   "metadata": {},
   "outputs": [
    {
     "name": "stdout",
     "output_type": "stream",
     "text": [
      "{0: 0, 1: 1, 2: 4, 3: 9, 4: 16, 5: 25, 6: 36, 7: 49, 8: 64}\n"
     ]
    }
   ],
   "source": [
    "def square_item(n):\n",
    "    square_value = {}\n",
    "    for i in range(0,n+1):\n",
    "        square_value[i] = i*i\n",
    "    return square_value\n",
    "n = int(input(\"enter your number\"))\n",
    "print(square_item(n))"
   ]
  },
  {
   "cell_type": "markdown",
   "metadata": {},
   "source": [
    "#### Q4 Write a program that accepts a sequence of comma-separated numbers from the console and generates a listand a tuple that contains every number. Suppose the following input issupplied to the program: 34,67,55,33,12,98 Then, the output should be:['34', '67', '55', '33', '12', '98'] ('34', '67', '55', '33', '12', '98')\n",
    "\n"
   ]
  },
  {
   "cell_type": "code",
   "execution_count": 5,
   "metadata": {},
   "outputs": [
    {
     "name": "stdout",
     "output_type": "stream",
     "text": [
      "['45', '65', '76', '44', '22']\n",
      "('45', '65', '76', '44', '22')\n"
     ]
    }
   ],
   "source": [
    "a = input('enter your integer list')\n",
    "num_list = a.split(',')\n",
    "num_tuple = tuple (num_list)\n",
    "print( num_list)\n",
    "print( num_tuple)"
   ]
  },
  {
   "cell_type": "markdown",
   "metadata": {},
   "source": [
    "#### Q5 Define a class that has at least two methods: getString:to get a string from the console input printString: to print the string in upper case. Also, please include a simple test function to test the class methods."
   ]
  },
  {
   "cell_type": "code",
   "execution_count": 6,
   "metadata": {},
   "outputs": [
    {
     "name": "stdout",
     "output_type": "stream",
     "text": [
      "ZOHIAB\n"
     ]
    }
   ],
   "source": [
    "class Get_print:\n",
    "    def getString(self):\n",
    "        self.input = input(\"Enter a name \") \n",
    "\n",
    "    def printString(self):\n",
    "        print(self.input.upper())  \n",
    "\n",
    "def test():\n",
    "    a = Get_print() \n",
    "    a.getString()  \n",
    "    a.printString()  \n",
    "test()\n"
   ]
  },
  {
   "cell_type": "markdown",
   "metadata": {},
   "source": [
    "#### Q6 A program that calculates and prints the value according to the given formula:Q = Square root of [(2 * C * D)/H] Following are the fixed values of C and H: C is 50. H is 30. D is the variable whose values should be input to your program in a comma-separated sequence. Example: Let us assume the following comma-separated input sequence is given to the program: 100,150,180 The output of the program should be 18,22,24"
   ]
  },
  {
   "cell_type": "code",
   "execution_count": 7,
   "metadata": {},
   "outputs": [
    {
     "name": "stdout",
     "output_type": "stream",
     "text": [
      "[6]\n"
     ]
    }
   ],
   "source": [
    "C = 50\n",
    "H = 30\n",
    "\n",
    "d_values =  str(input(\"Enter your number comma values: \")).split(\",\")\n",
    "\n",
    "results = []\n",
    "\n",
    "for d in d_values:\n",
    "    D = int(d) \n",
    "    Q =((2 * C * D) / H)**0.5\n",
    "    results.append(round(Q)) \n",
    "\n",
    "print(results)"
   ]
  },
  {
   "cell_type": "markdown",
   "metadata": {},
   "source": [
    "#### Q7 Program which takes 2 digits, X, Y as input and generates a 2-dimensional array. The element value in the i-th row and j-th column of the array should be i*j. Note: i=0,1.., X-1; j=0,1,¡Y-1. Example: Suppose the following inputs are given to the program: 3,5 Then, the output of the program should be: [[0, 0, 0, 0, 0], [0, 1, 2, 3, 4], [0, 2, 4, 6, 8]]\n",
    "\n",
    "\n",
    "\n"
   ]
  },
  {
   "cell_type": "code",
   "execution_count": 8,
   "metadata": {},
   "outputs": [
    {
     "name": "stdout",
     "output_type": "stream",
     "text": [
      "[[0, 0, 0, 0, 0], [0, 1, 2, 3, 4], [0, 2, 4, 6, 8]]\n"
     ]
    }
   ],
   "source": [
    "x = int(input(\"enter your first number\"))\n",
    "y = int(input(\"enter your second number\"))\n",
    "array = []\n",
    "for i in range(x):\n",
    "    row = []\n",
    "    for j in range(y):\n",
    "        row.append(i * j)  \n",
    "    array.append(row)\n",
    "print(array)"
   ]
  },
  {
   "cell_type": "markdown",
   "metadata": {},
   "source": [
    "#### Q8 The program accepts a comma-separated sequence of words as input and prints the words in a comma-separated sequence after sorting them alphabetically. Suppose the following input is supplied to the program: without, hello, bag, world. Then, the output should be: bag, hello, without, world.\n",
    "\n"
   ]
  },
  {
   "cell_type": "code",
   "execution_count": 9,
   "metadata": {},
   "outputs": [
    {
     "name": "stdout",
     "output_type": "stream",
     "text": [
      "bag, hello, without, world\n"
     ]
    }
   ],
   "source": [
    "x = input(\"Enter your series of words (comma-separated): \").split(\",\")\n",
    "b = sorted(x)\n",
    "result = ', '.join(b)\n",
    "print(result)"
   ]
  },
  {
   "cell_type": "markdown",
   "metadata": {},
   "source": [
    "#### Q9 The program accepts a sequence of lines as input and prints the lines after making all characters in the sentence  capitalized. Suppose the following input is supplied to the program:  Hello world Practice makes perfect. Then, the output should be: HELLO WORLD PRACTICE MAKES PERFECT.\n"
   ]
  },
  {
   "cell_type": "code",
   "execution_count": 10,
   "metadata": {},
   "outputs": [
    {
     "name": "stdout",
     "output_type": "stream",
     "text": [
      "hello world\n"
     ]
    }
   ],
   "source": [
    "words = input(\"Enter your series of words (comma-separated): \").split(\",\")\n",
    "\n",
    "sorted_words = []\n",
    "\n",
    "for i in range(len(words)):\n",
    "    smallest = words[0]  \n",
    "    for word in words:  \n",
    "        if word < smallest:                            \n",
    "            smallest = word  \n",
    "            \n",
    "    sorted_words.append(smallest) \n",
    "    words.remove(smallest)  \n",
    "result = ', '.join(sorted_words)\n",
    "\n",
    "print(result)"
   ]
  },
  {
   "cell_type": "markdown",
   "metadata": {},
   "source": [
    "#### Q10 A program that accepts a sequence of whitespace-separated words as input and prints the words after removing all duplicate wordsand sorting them alphanumerically. Suppose the following input is supplied to the program: hello world and practice make perfect and hello world again.Then, the output should be: again and hello make perfect practice world"
   ]
  },
  {
   "cell_type": "code",
   "execution_count": 11,
   "metadata": {},
   "outputs": [
    {
     "name": "stdout",
     "output_type": "stream",
     "text": [
      "again and hello make practice world\n"
     ]
    }
   ],
   "source": [
    "def process_words(x):\n",
    "    words = x.split()\n",
    "    unique_words = set(words)\n",
    "    sorted_words = sorted(unique_words)\n",
    "    \n",
    "    y = ' '.join(sorted_words)\n",
    "    \n",
    "    return y\n",
    "x = input(\"Enter your words: \")\n",
    "output = process_words(x)\n",
    "print(output)\n"
   ]
  },
  {
   "cell_type": "markdown",
   "metadata": {},
   "source": [
    "#### Q11 A program that accepts a sequence of comma-separated 4-digit binary numbers as its input and then checks whether they are divisible by 5 or not. The numbers that are divisible by 5 are to be printed in a comma-separated sequence.Example: 0100,0011,1010,1001 Then the output should be: 1010 Notes: Assume the data is input by the console."
   ]
  },
  {
   "cell_type": "code",
   "execution_count": 12,
   "metadata": {},
   "outputs": [
    {
     "name": "stdout",
     "output_type": "stream",
     "text": [
      "Output: 1010\n"
     ]
    }
   ],
   "source": [
    "def five_var():  \n",
    "\n",
    "    x = input(\"Enter a numbers: \")  \n",
    "    \n",
    "    list = x.split(',')  \n",
    "    \n",
    "    divisible_by_five = []\n",
    "\n",
    "    for i in list:   \n",
    "        decimal = int(i,2)  \n",
    "        if decimal % 5 == 0:  \n",
    "            divisible_by_five.append(i)  \n",
    "     \n",
    "    result = ','.join(divisible_by_five)  \n",
    "    print(\"Output:\", result)  \n",
    "\n",
    "five_var()"
   ]
  },
  {
   "cell_type": "markdown",
   "metadata": {},
   "source": [
    "#### Q12 A program that will find all such numbers between 1000 and 3000 (both included) such that each digit of the number is an even number. The numbers obtained should be printed in a comma-separated sequence on a single line.\n",
    "\n"
   ]
  },
  {
   "cell_type": "code",
   "execution_count": 13,
   "metadata": {},
   "outputs": [
    {
     "name": "stdout",
     "output_type": "stream",
     "text": [
      "1000,1002,1004,1006,1008,1010,1012,1014,1016,1018,1020,1022,1024,1026,1028,1030,1032,1034,1036,1038,1040,1042,1044,1046,1048,1050,1052,1054,1056,1058,1060,1062,1064,1066,1068,1070,1072,1074,1076,1078,1080,1082,1084,1086,1088,1090,1092,1094,1096,1098,1100,1102,1104,1106,1108,1110,1112,1114,1116,1118,1120,1122,1124,1126,1128,1130,1132,1134,1136,1138,1140,1142,1144,1146,1148,1150,1152,1154,1156,1158,1160,1162,1164,1166,1168,1170,1172,1174,1176,1178,1180,1182,1184,1186,1188,1190,1192,1194,1196,1198,1200,1202,1204,1206,1208,1210,1212,1214,1216,1218,1220,1222,1224,1226,1228,1230,1232,1234,1236,1238,1240,1242,1244,1246,1248,1250,1252,1254,1256,1258,1260,1262,1264,1266,1268,1270,1272,1274,1276,1278,1280,1282,1284,1286,1288,1290,1292,1294,1296,1298,1300,1302,1304,1306,1308,1310,1312,1314,1316,1318,1320,1322,1324,1326,1328,1330,1332,1334,1336,1338,1340,1342,1344,1346,1348,1350,1352,1354,1356,1358,1360,1362,1364,1366,1368,1370,1372,1374,1376,1378,1380,1382,1384,1386,1388,1390,1392,1394,1396,1398,1400,1402,1404,1406,1408,1410,1412,1414,1416,1418,1420,1422,1424,1426,1428,1430,1432,1434,1436,1438,1440,1442,1444,1446,1448,1450,1452,1454,1456,1458,1460,1462,1464,1466,1468,1470,1472,1474,1476,1478,1480,1482,1484,1486,1488,1490,1492,1494,1496,1498,1500,1502,1504,1506,1508,1510,1512,1514,1516,1518,1520,1522,1524,1526,1528,1530,1532,1534,1536,1538,1540,1542,1544,1546,1548,1550,1552,1554,1556,1558,1560,1562,1564,1566,1568,1570,1572,1574,1576,1578,1580,1582,1584,1586,1588,1590,1592,1594,1596,1598,1600,1602,1604,1606,1608,1610,1612,1614,1616,1618,1620,1622,1624,1626,1628,1630,1632,1634,1636,1638,1640,1642,1644,1646,1648,1650,1652,1654,1656,1658,1660,1662,1664,1666,1668,1670,1672,1674,1676,1678,1680,1682,1684,1686,1688,1690,1692,1694,1696,1698,1700,1702,1704,1706,1708,1710,1712,1714,1716,1718,1720,1722,1724,1726,1728,1730,1732,1734,1736,1738,1740,1742,1744,1746,1748,1750,1752,1754,1756,1758,1760,1762,1764,1766,1768,1770,1772,1774,1776,1778,1780,1782,1784,1786,1788,1790,1792,1794,1796,1798,1800,1802,1804,1806,1808,1810,1812,1814,1816,1818,1820,1822,1824,1826,1828,1830,1832,1834,1836,1838,1840,1842,1844,1846,1848,1850,1852,1854,1856,1858,1860,1862,1864,1866,1868,1870,1872,1874,1876,1878,1880,1882,1884,1886,1888,1890,1892,1894,1896,1898,1900,1902,1904,1906,1908,1910,1912,1914,1916,1918,1920,1922,1924,1926,1928,1930,1932,1934,1936,1938,1940,1942,1944,1946,1948,1950,1952,1954,1956,1958,1960,1962,1964,1966,1968,1970,1972,1974,1976,1978,1980,1982,1984,1986,1988,1990,1992,1994,1996,1998,2000,2002,2004,2006,2008,2010,2012,2014,2016,2018,2020,2022,2024,2026,2028,2030,2032,2034,2036,2038,2040,2042,2044,2046,2048,2050,2052,2054,2056,2058,2060,2062,2064,2066,2068,2070,2072,2074,2076,2078,2080,2082,2084,2086,2088,2090,2092,2094,2096,2098,2100,2102,2104,2106,2108,2110,2112,2114,2116,2118,2120,2122,2124,2126,2128,2130,2132,2134,2136,2138,2140,2142,2144,2146,2148,2150,2152,2154,2156,2158,2160,2162,2164,2166,2168,2170,2172,2174,2176,2178,2180,2182,2184,2186,2188,2190,2192,2194,2196,2198,2200,2202,2204,2206,2208,2210,2212,2214,2216,2218,2220,2222,2224,2226,2228,2230,2232,2234,2236,2238,2240,2242,2244,2246,2248,2250,2252,2254,2256,2258,2260,2262,2264,2266,2268,2270,2272,2274,2276,2278,2280,2282,2284,2286,2288,2290,2292,2294,2296,2298,2300,2302,2304,2306,2308,2310,2312,2314,2316,2318,2320,2322,2324,2326,2328,2330,2332,2334,2336,2338,2340,2342,2344,2346,2348,2350,2352,2354,2356,2358,2360,2362,2364,2366,2368,2370,2372,2374,2376,2378,2380,2382,2384,2386,2388,2390,2392,2394,2396,2398,2400,2402,2404,2406,2408,2410,2412,2414,2416,2418,2420,2422,2424,2426,2428,2430,2432,2434,2436,2438,2440,2442,2444,2446,2448,2450,2452,2454,2456,2458,2460,2462,2464,2466,2468,2470,2472,2474,2476,2478,2480,2482,2484,2486,2488,2490,2492,2494,2496,2498,2500,2502,2504,2506,2508,2510,2512,2514,2516,2518,2520,2522,2524,2526,2528,2530,2532,2534,2536,2538,2540,2542,2544,2546,2548,2550,2552,2554,2556,2558,2560,2562,2564,2566,2568,2570,2572,2574,2576,2578,2580,2582,2584,2586,2588,2590,2592,2594,2596,2598,2600,2602,2604,2606,2608,2610,2612,2614,2616,2618,2620,2622,2624,2626,2628,2630,2632,2634,2636,2638,2640,2642,2644,2646,2648,2650,2652,2654,2656,2658,2660,2662,2664,2666,2668,2670,2672,2674,2676,2678,2680,2682,2684,2686,2688,2690,2692,2694,2696,2698,2700,2702,2704,2706,2708,2710,2712,2714,2716,2718,2720,2722,2724,2726,2728,2730,2732,2734,2736,2738,2740,2742,2744,2746,2748,2750,2752,2754,2756,2758,2760,2762,2764,2766,2768,2770,2772,2774,2776,2778,2780,2782,2784,2786,2788,2790,2792,2794,2796,2798,2800,2802,2804,2806,2808,2810,2812,2814,2816,2818,2820,2822,2824,2826,2828,2830,2832,2834,2836,2838,2840,2842,2844,2846,2848,2850,2852,2854,2856,2858,2860,2862,2864,2866,2868,2870,2872,2874,2876,2878,2880,2882,2884,2886,2888,2890,2892,2894,2896,2898,2900,2902,2904,2906,2908,2910,2912,2914,2916,2918,2920,2922,2924,2926,2928,2930,2932,2934,2936,2938,2940,2942,2944,2946,2948,2950,2952,2954,2956,2958,2960,2962,2964,2966,2968,2970,2972,2974,2976,2978,2980,2982,2984,2986,2988,2990,2992,2994,2996,2998,3000\n"
     ]
    }
   ],
   "source": [
    "list = [] \n",
    "for val in range(1000, 3001):\n",
    "    if val % 2 == 0:\n",
    "        list.append(val) \n",
    "result = ','.join (map(str, list))\n",
    "print(result)\n"
   ]
  },
  {
   "cell_type": "markdown",
   "metadata": {},
   "source": [
    "#### Q13 A program that accepts a sentence and calculates the number of letters and digits. Suppose the following input is supplied to the program: hello world! 123 Then, the output should be LETTERS 10 DIGITS 3.\n",
    "\n"
   ]
  },
  {
   "cell_type": "code",
   "execution_count": 14,
   "metadata": {},
   "outputs": [
    {
     "name": "stdout",
     "output_type": "stream",
     "text": [
      "LETTERS 6\n",
      "DIGITS 3\n"
     ]
    }
   ],
   "source": [
    "def cal_alpha_digit(sentance):\n",
    "    letters = 0\n",
    "    digit = 0\n",
    "    for i in sentance:\n",
    "        if i.isalpha():\n",
    "            letters += 1\n",
    "        elif i.isdigit():\n",
    "            digit = i\n",
    "    print(f\"LETTERS {letters}\")\n",
    "    print(f\"DIGITS {digit}\")\n",
    "sentance  = input(\"enter your number of letters and digits.\")\n",
    "cal_alpha_digit(sentance)"
   ]
  },
  {
   "cell_type": "markdown",
   "metadata": {},
   "source": [
    "#### Q14 A program that accepts a sentence and calculates the number of upper case letters and lower case letters. Suppose the following input is supplied to the program: Hello world! Then, the output should be: UPPER CASE 1 LOWER CASE 9\n",
    "\n",
    "\n"
   ]
  },
  {
   "cell_type": "code",
   "execution_count": 16,
   "metadata": {},
   "outputs": [
    {
     "name": "stdout",
     "output_type": "stream",
     "text": [
      "UPPER CASE CHAR 3\n",
      "LOWER CASE CHAR 7\n"
     ]
    }
   ],
   "source": [
    "def upper_lower_case(sentance):\n",
    "    upper_case= 0\n",
    "    lower_case= 0\n",
    "    for i in sentance:\n",
    "        if i.isupper():\n",
    "            upper_case += 1\n",
    "        elif i.islower():\n",
    "            lower_case += 1\n",
    "    print(f\"UPPER CASE CHAR {upper_case}\")\n",
    "    print(f\"LOWER CASE CHAR {lower_case}\")\n",
    "sentance  = input(\"enter your number of letters and digits.\")\n",
    "upper_lower_case(sentance)"
   ]
  },
  {
   "cell_type": "markdown",
   "metadata": {},
   "source": [
    "#### Q15 A program that computes the value of a+aa+aaa+aaaa with a given digit as the value of a. Suppose the following input is supplied to the program: 9 Then, the output should be: 11106"
   ]
  },
  {
   "cell_type": "code",
   "execution_count": 17,
   "metadata": {},
   "outputs": [
    {
     "name": "stdout",
     "output_type": "stream",
     "text": [
      "11106\n"
     ]
    }
   ],
   "source": [
    "a = input(\"Enter your number: \")\n",
    "n = int(a) + int(a * 2) + int(a * 3) + int(a * 4)\n",
    "print(n)"
   ]
  },
  {
   "cell_type": "markdown",
   "metadata": {},
   "source": [
    "#### Q16 Use a list comprehension to square each odd number in a list. The list is input as a sequence of comma-separated numbers.Suppose the following input is supplied to the program: 1,2,3,4,5,6,7,8,9. Then, the outputshould be 1,3,5,7,9."
   ]
  },
  {
   "cell_type": "code",
   "execution_count": 18,
   "metadata": {},
   "outputs": [
    {
     "name": "stdout",
     "output_type": "stream",
     "text": [
      "[9]\n"
     ]
    }
   ],
   "source": [
    "user_input = input(\"Enter number: \")\n",
    "b = [int(x) for x in a if int(x) % 2!=0 ]\n",
    "print(b)"
   ]
  },
  {
   "cell_type": "markdown",
   "metadata": {},
   "source": [
    "#### Q17 A program that computes the net amount of a bank account based on a transaction log from console input.The transaction log format is shown as follows: D 100 W 200. D means a deposit, while W means withdrawal. Suppose the following input is supplied to the program: D 300 D 300 W 200 D 100 Then, the output should be: 500\n"
   ]
  },
  {
   "cell_type": "code",
   "execution_count": 19,
   "metadata": {},
   "outputs": [
    {
     "name": "stdout",
     "output_type": "stream",
     "text": [
      "RS 300 was debit\n",
      "total blance = -300\n",
      "RS 300 was debit\n",
      "total blance = -600\n",
      "RS 200 was withdraw\n",
      "total blance = -400\n",
      "RS 100 was debit\n",
      "total blance = -500\n"
     ]
    }
   ],
   "source": [
    "class Account:\n",
    "    def __init__ (self, bal , acc):\n",
    "        self.blance = bal\n",
    "        self.account_no = acc\n",
    "\n",
    "    def debit(self,amount):\n",
    "        self.blance -= amount\n",
    "        print(\"RS\",amount,\"was debit\")\n",
    "        print(\"total blance =\", self.get_blance() )\n",
    "    def withdraw(self,amount):\n",
    "        self.blance += amount\n",
    "        print(\"RS\",amount,\"was withdraw\")\n",
    "        print(\"total blance =\", self.get_blance() )\n",
    "    def get_blance(self):\n",
    "        return self.blance\n",
    "acc = Account (0, 12345)\n",
    "acc.debit(300)\n",
    "acc.debit(300)\n",
    "acc.withdraw(200)\n",
    "acc.debit(100)"
   ]
  },
  {
   "cell_type": "markdown",
   "metadata": {},
   "source": [
    "#### Q18 With two given lists [1,3,6,78,35,55] and [12,24,35,24,88,120,155],write a program to make a list whose elements are the intersection of the above-given lists.AA"
   ]
  },
  {
   "cell_type": "code",
   "execution_count": 2,
   "metadata": {},
   "outputs": [
    {
     "name": "stdout",
     "output_type": "stream",
     "text": [
      "[35, 45]\n"
     ]
    }
   ],
   "source": [
    "one_list = [1,3,6,8,78,35,55,45]\n",
    "two_list = [12,24,35,24,88,120,155,45,45]\n",
    "common_number =list (set(one_list) & set(two_list))\n",
    "print(common_number)"
   ]
  },
  {
   "cell_type": "markdown",
   "metadata": {},
   "source": [
    "#### Q19 A program to compute 1/2+2/3+3/4+...+n/n+1 with a given n input by console (n>0).If the following n is provided as input to the program: 5.  Then, the output of the program should be: 3.55"
   ]
  },
  {
   "cell_type": "code",
   "execution_count": null,
   "metadata": {},
   "outputs": [],
   "source": [
    "\n",
    "n = int(input(\"enter your number\"))\n",
    "total = 0.0\n",
    "for n in range(1, n+1):\n",
    "    term = n/(n+1)\n",
    "    total += term\n",
    "print(f\"The sum of the series is: {total:.2f}\")\n"
   ]
  },
  {
   "cell_type": "markdown",
   "metadata": {},
   "source": [
    "#### Q20 With two given lists [1,3,6,78,35,55] and [12,24,35,24,88,120,155],  write a program to make a list whose elements are the intersection of the above-given lists.\n",
    "\n"
   ]
  },
  {
   "cell_type": "code",
   "execution_count": 1,
   "metadata": {},
   "outputs": [
    {
     "name": "stdout",
     "output_type": "stream",
     "text": [
      "[35]\n"
     ]
    }
   ],
   "source": [
    "one_list = [1,3,6,8,78,35,55,45]\n",
    "two_list = [12,24,35,24,88,120,155]\n",
    "new_list = []\n",
    "for number in one_list:\n",
    "    if number in two_list:\n",
    "        new_list.append(number)\n",
    "        print(new_list)"
   ]
  },
  {
   "cell_type": "markdown",
   "metadata": {},
   "source": [
    "#### Q21 A program that counts and prints each character's numbers in a string input by the console. Example: If the following string is given as input to the program: abcdefgabc Then, the output of the program should be: a,2 c,2 b,2 e,1 d,1 g,1 f,1"
   ]
  },
  {
   "cell_type": "code",
   "execution_count": null,
   "metadata": {},
   "outputs": [],
   "source": [
    "input_text = input(\"Enter a string: \")\n",
    "counts = {}\n",
    "\n",
    "for char in input_text:\n",
    "    counts[char] = counts.get(char,0) + 1\n",
    "\n",
    "for char, count in counts.items():\n",
    "    print(f\"{char},{count}\")"
   ]
  },
  {
   "cell_type": "code",
   "execution_count": 3,
   "metadata": {},
   "outputs": [
    {
     "ename": "SyntaxError",
     "evalue": "invalid syntax (2113583046.py, line 1)",
     "output_type": "error",
     "traceback": [
      "\u001b[1;36m  Cell \u001b[1;32mIn[3], line 1\u001b[1;36m\u001b[0m\n\u001b[1;33m    git config --global user.name \"YourName\"\u001b[0m\n\u001b[1;37m        ^\u001b[0m\n\u001b[1;31mSyntaxError\u001b[0m\u001b[1;31m:\u001b[0m invalid syntax\n"
     ]
    }
   ],
   "source": []
  },
  {
   "cell_type": "code",
   "execution_count": null,
   "metadata": {},
   "outputs": [],
   "source": []
  }
 ],
 "metadata": {
  "kernelspec": {
   "display_name": "Python 3",
   "language": "python",
   "name": "python3"
  },
  "language_info": {
   "codemirror_mode": {
    "name": "ipython",
    "version": 3
   },
   "file_extension": ".py",
   "mimetype": "text/x-python",
   "name": "python",
   "nbconvert_exporter": "python",
   "pygments_lexer": "ipython3",
   "version": "3.11.9"
  }
 },
 "nbformat": 4,
 "nbformat_minor": 2
}
